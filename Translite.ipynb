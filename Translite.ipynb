{
  "nbformat": 4,
  "nbformat_minor": 0,
  "metadata": {
    "colab": {
      "provenance": [],
      "collapsed_sections": [
        "fU4jxUe7XUau"
      ],
      "machine_shape": "hm",
      "gpuType": "A100"
    },
    "kernelspec": {
      "name": "python3",
      "display_name": "Python 3"
    },
    "language_info": {
      "name": "python"
    },
    "widgets": {
      "application/vnd.jupyter.widget-state+json": {
        "37b7db3924cd4d01abdd6b30c2b68dd5": {
          "model_module": "@jupyter-widgets/controls",
          "model_name": "TextModel",
          "model_module_version": "1.5.0",
          "state": {
            "_dom_classes": [],
            "_model_module": "@jupyter-widgets/controls",
            "_model_module_version": "1.5.0",
            "_model_name": "TextModel",
            "_view_count": null,
            "_view_module": "@jupyter-widgets/controls",
            "_view_module_version": "1.5.0",
            "_view_name": "TextView",
            "continuous_update": true,
            "description": "Kaggle Dataset Name:",
            "description_tooltip": null,
            "disabled": false,
            "layout": "IPY_MODEL_483e063dea5c450a9cf8a39450bb472e",
            "placeholder": "​",
            "style": "IPY_MODEL_2d90bd1b9d1a467696f7e22ca646a981",
            "value": ""
          }
        },
        "483e063dea5c450a9cf8a39450bb472e": {
          "model_module": "@jupyter-widgets/base",
          "model_name": "LayoutModel",
          "model_module_version": "1.2.0",
          "state": {
            "_model_module": "@jupyter-widgets/base",
            "_model_module_version": "1.2.0",
            "_model_name": "LayoutModel",
            "_view_count": null,
            "_view_module": "@jupyter-widgets/base",
            "_view_module_version": "1.2.0",
            "_view_name": "LayoutView",
            "align_content": null,
            "align_items": null,
            "align_self": null,
            "border": null,
            "bottom": null,
            "display": null,
            "flex": null,
            "flex_flow": null,
            "grid_area": null,
            "grid_auto_columns": null,
            "grid_auto_flow": null,
            "grid_auto_rows": null,
            "grid_column": null,
            "grid_gap": null,
            "grid_row": null,
            "grid_template_areas": null,
            "grid_template_columns": null,
            "grid_template_rows": null,
            "height": null,
            "justify_content": null,
            "justify_items": null,
            "left": null,
            "margin": null,
            "max_height": null,
            "max_width": null,
            "min_height": null,
            "min_width": null,
            "object_fit": null,
            "object_position": null,
            "order": null,
            "overflow": null,
            "overflow_x": null,
            "overflow_y": null,
            "padding": null,
            "right": null,
            "top": null,
            "visibility": null,
            "width": "500px"
          }
        },
        "2d90bd1b9d1a467696f7e22ca646a981": {
          "model_module": "@jupyter-widgets/controls",
          "model_name": "DescriptionStyleModel",
          "model_module_version": "1.5.0",
          "state": {
            "_model_module": "@jupyter-widgets/controls",
            "_model_module_version": "1.5.0",
            "_model_name": "DescriptionStyleModel",
            "_view_count": null,
            "_view_module": "@jupyter-widgets/base",
            "_view_module_version": "1.2.0",
            "_view_name": "StyleView",
            "description_width": "initial"
          }
        },
        "90664c21aa0c455192eebc0a701e30f7": {
          "model_module": "@jupyter-widgets/controls",
          "model_name": "TextModel",
          "model_module_version": "1.5.0",
          "state": {
            "_dom_classes": [],
            "_model_module": "@jupyter-widgets/controls",
            "_model_module_version": "1.5.0",
            "_model_name": "TextModel",
            "_view_count": null,
            "_view_module": "@jupyter-widgets/controls",
            "_view_module_version": "1.5.0",
            "_view_name": "TextView",
            "continuous_update": true,
            "description": "Language Name:",
            "description_tooltip": null,
            "disabled": false,
            "layout": "IPY_MODEL_00ff33f555d2433db919adbfa45a17fb",
            "placeholder": "​",
            "style": "IPY_MODEL_b28a0c51a5074294831d631b9636f596",
            "value": ""
          }
        },
        "00ff33f555d2433db919adbfa45a17fb": {
          "model_module": "@jupyter-widgets/base",
          "model_name": "LayoutModel",
          "model_module_version": "1.2.0",
          "state": {
            "_model_module": "@jupyter-widgets/base",
            "_model_module_version": "1.2.0",
            "_model_name": "LayoutModel",
            "_view_count": null,
            "_view_module": "@jupyter-widgets/base",
            "_view_module_version": "1.2.0",
            "_view_name": "LayoutView",
            "align_content": null,
            "align_items": null,
            "align_self": null,
            "border": null,
            "bottom": null,
            "display": null,
            "flex": null,
            "flex_flow": null,
            "grid_area": null,
            "grid_auto_columns": null,
            "grid_auto_flow": null,
            "grid_auto_rows": null,
            "grid_column": null,
            "grid_gap": null,
            "grid_row": null,
            "grid_template_areas": null,
            "grid_template_columns": null,
            "grid_template_rows": null,
            "height": null,
            "justify_content": null,
            "justify_items": null,
            "left": null,
            "margin": null,
            "max_height": null,
            "max_width": null,
            "min_height": null,
            "min_width": null,
            "object_fit": null,
            "object_position": null,
            "order": null,
            "overflow": null,
            "overflow_x": null,
            "overflow_y": null,
            "padding": null,
            "right": null,
            "top": null,
            "visibility": null,
            "width": "500px"
          }
        },
        "b28a0c51a5074294831d631b9636f596": {
          "model_module": "@jupyter-widgets/controls",
          "model_name": "DescriptionStyleModel",
          "model_module_version": "1.5.0",
          "state": {
            "_model_module": "@jupyter-widgets/controls",
            "_model_module_version": "1.5.0",
            "_model_name": "DescriptionStyleModel",
            "_view_count": null,
            "_view_module": "@jupyter-widgets/base",
            "_view_module_version": "1.2.0",
            "_view_name": "StyleView",
            "description_width": "initial"
          }
        },
        "54e16ea98f9643509f713b72f2836c65": {
          "model_module": "@jupyter-widgets/controls",
          "model_name": "TextModel",
          "model_module_version": "1.5.0",
          "state": {
            "_dom_classes": [],
            "_model_module": "@jupyter-widgets/controls",
            "_model_module_version": "1.5.0",
            "_model_name": "TextModel",
            "_view_count": null,
            "_view_module": "@jupyter-widgets/controls",
            "_view_module_version": "1.5.0",
            "_view_name": "TextView",
            "continuous_update": true,
            "description": "English Column Name:",
            "description_tooltip": null,
            "disabled": false,
            "layout": "IPY_MODEL_1c61765b90684b0bba4d436325942e47",
            "placeholder": "​",
            "style": "IPY_MODEL_04550d2ba3774747943fc4befc3eb749",
            "value": ""
          }
        },
        "1c61765b90684b0bba4d436325942e47": {
          "model_module": "@jupyter-widgets/base",
          "model_name": "LayoutModel",
          "model_module_version": "1.2.0",
          "state": {
            "_model_module": "@jupyter-widgets/base",
            "_model_module_version": "1.2.0",
            "_model_name": "LayoutModel",
            "_view_count": null,
            "_view_module": "@jupyter-widgets/base",
            "_view_module_version": "1.2.0",
            "_view_name": "LayoutView",
            "align_content": null,
            "align_items": null,
            "align_self": null,
            "border": null,
            "bottom": null,
            "display": null,
            "flex": null,
            "flex_flow": null,
            "grid_area": null,
            "grid_auto_columns": null,
            "grid_auto_flow": null,
            "grid_auto_rows": null,
            "grid_column": null,
            "grid_gap": null,
            "grid_row": null,
            "grid_template_areas": null,
            "grid_template_columns": null,
            "grid_template_rows": null,
            "height": null,
            "justify_content": null,
            "justify_items": null,
            "left": null,
            "margin": null,
            "max_height": null,
            "max_width": null,
            "min_height": null,
            "min_width": null,
            "object_fit": null,
            "object_position": null,
            "order": null,
            "overflow": null,
            "overflow_x": null,
            "overflow_y": null,
            "padding": null,
            "right": null,
            "top": null,
            "visibility": null,
            "width": "500px"
          }
        },
        "04550d2ba3774747943fc4befc3eb749": {
          "model_module": "@jupyter-widgets/controls",
          "model_name": "DescriptionStyleModel",
          "model_module_version": "1.5.0",
          "state": {
            "_model_module": "@jupyter-widgets/controls",
            "_model_module_version": "1.5.0",
            "_model_name": "DescriptionStyleModel",
            "_view_count": null,
            "_view_module": "@jupyter-widgets/base",
            "_view_module_version": "1.2.0",
            "_view_name": "StyleView",
            "description_width": "initial"
          }
        },
        "7bf2660193054c5c95093463cbc94c6a": {
          "model_module": "@jupyter-widgets/controls",
          "model_name": "TextModel",
          "model_module_version": "1.5.0",
          "state": {
            "_dom_classes": [],
            "_model_module": "@jupyter-widgets/controls",
            "_model_module_version": "1.5.0",
            "_model_name": "TextModel",
            "_view_count": null,
            "_view_module": "@jupyter-widgets/controls",
            "_view_module_version": "1.5.0",
            "_view_name": "TextView",
            "continuous_update": true,
            "description": "Other Language Column Name:",
            "description_tooltip": null,
            "disabled": false,
            "layout": "IPY_MODEL_a2534187db6e4a2f97968a1c9f202d19",
            "placeholder": "​",
            "style": "IPY_MODEL_1828a26aed41452aa9f5ecf49eef06e9",
            "value": ""
          }
        },
        "a2534187db6e4a2f97968a1c9f202d19": {
          "model_module": "@jupyter-widgets/base",
          "model_name": "LayoutModel",
          "model_module_version": "1.2.0",
          "state": {
            "_model_module": "@jupyter-widgets/base",
            "_model_module_version": "1.2.0",
            "_model_name": "LayoutModel",
            "_view_count": null,
            "_view_module": "@jupyter-widgets/base",
            "_view_module_version": "1.2.0",
            "_view_name": "LayoutView",
            "align_content": null,
            "align_items": null,
            "align_self": null,
            "border": null,
            "bottom": null,
            "display": null,
            "flex": null,
            "flex_flow": null,
            "grid_area": null,
            "grid_auto_columns": null,
            "grid_auto_flow": null,
            "grid_auto_rows": null,
            "grid_column": null,
            "grid_gap": null,
            "grid_row": null,
            "grid_template_areas": null,
            "grid_template_columns": null,
            "grid_template_rows": null,
            "height": null,
            "justify_content": null,
            "justify_items": null,
            "left": null,
            "margin": null,
            "max_height": null,
            "max_width": null,
            "min_height": null,
            "min_width": null,
            "object_fit": null,
            "object_position": null,
            "order": null,
            "overflow": null,
            "overflow_x": null,
            "overflow_y": null,
            "padding": null,
            "right": null,
            "top": null,
            "visibility": null,
            "width": "500px"
          }
        },
        "1828a26aed41452aa9f5ecf49eef06e9": {
          "model_module": "@jupyter-widgets/controls",
          "model_name": "DescriptionStyleModel",
          "model_module_version": "1.5.0",
          "state": {
            "_model_module": "@jupyter-widgets/controls",
            "_model_module_version": "1.5.0",
            "_model_name": "DescriptionStyleModel",
            "_view_count": null,
            "_view_module": "@jupyter-widgets/base",
            "_view_module_version": "1.2.0",
            "_view_name": "StyleView",
            "description_width": "initial"
          }
        },
        "09834605732a4ff5a9c711887a0624f2": {
          "model_module": "@jupyter-widgets/controls",
          "model_name": "HBoxModel",
          "model_module_version": "1.5.0",
          "state": {
            "_dom_classes": [],
            "_model_module": "@jupyter-widgets/controls",
            "_model_module_version": "1.5.0",
            "_model_name": "HBoxModel",
            "_view_count": null,
            "_view_module": "@jupyter-widgets/controls",
            "_view_module_version": "1.5.0",
            "_view_name": "HBoxView",
            "box_style": "",
            "children": [
              "IPY_MODEL_1bcaa7eccb054025bbe42f0e78d00ffb",
              "IPY_MODEL_ddf3d73acc0c4caebf62acf262d3b403",
              "IPY_MODEL_cedb97f7498a4c74b184846b05ea5c42",
              "IPY_MODEL_6145468e322540cfb485ce0ae6ed0288"
            ],
            "layout": "IPY_MODEL_e2f688148d1145cd98ea16c8e395add7"
          }
        },
        "1bcaa7eccb054025bbe42f0e78d00ffb": {
          "model_module": "@jupyter-widgets/controls",
          "model_name": "ButtonModel",
          "model_module_version": "1.5.0",
          "state": {
            "_dom_classes": [],
            "_model_module": "@jupyter-widgets/controls",
            "_model_module_version": "1.5.0",
            "_model_name": "ButtonModel",
            "_view_count": null,
            "_view_module": "@jupyter-widgets/controls",
            "_view_module_version": "1.5.0",
            "_view_name": "ButtonView",
            "button_style": "",
            "description": "Add Row",
            "disabled": false,
            "icon": "",
            "layout": "IPY_MODEL_ac2aeaa3613d4a0e880df88a49586c9c",
            "style": "IPY_MODEL_a08358caafc74ccc8115cddf5675ce77",
            "tooltip": ""
          }
        },
        "ddf3d73acc0c4caebf62acf262d3b403": {
          "model_module": "@jupyter-widgets/controls",
          "model_name": "ButtonModel",
          "model_module_version": "1.5.0",
          "state": {
            "_dom_classes": [],
            "_model_module": "@jupyter-widgets/controls",
            "_model_module_version": "1.5.0",
            "_model_name": "ButtonModel",
            "_view_count": null,
            "_view_module": "@jupyter-widgets/controls",
            "_view_module_version": "1.5.0",
            "_view_name": "ButtonView",
            "button_style": "",
            "description": "Import Dataset",
            "disabled": false,
            "icon": "",
            "layout": "IPY_MODEL_88e4251469a24338856866bb75144ba3",
            "style": "IPY_MODEL_13e0786074be4cbbb9f2feac2fe22a3e",
            "tooltip": ""
          }
        },
        "cedb97f7498a4c74b184846b05ea5c42": {
          "model_module": "@jupyter-widgets/controls",
          "model_name": "ButtonModel",
          "model_module_version": "1.5.0",
          "state": {
            "_dom_classes": [],
            "_model_module": "@jupyter-widgets/controls",
            "_model_module_version": "1.5.0",
            "_model_name": "ButtonModel",
            "_view_count": null,
            "_view_module": "@jupyter-widgets/controls",
            "_view_module_version": "1.5.0",
            "_view_name": "ButtonView",
            "button_style": "",
            "description": "Export Dataset",
            "disabled": false,
            "icon": "",
            "layout": "IPY_MODEL_0952cd19599941619317a9b469327624",
            "style": "IPY_MODEL_991ead11a26b4db0825d3a16cac235fd",
            "tooltip": ""
          }
        },
        "6145468e322540cfb485ce0ae6ed0288": {
          "model_module": "@jupyter-widgets/controls",
          "model_name": "ButtonModel",
          "model_module_version": "1.5.0",
          "state": {
            "_dom_classes": [],
            "_model_module": "@jupyter-widgets/controls",
            "_model_module_version": "1.5.0",
            "_model_name": "ButtonModel",
            "_view_count": null,
            "_view_module": "@jupyter-widgets/controls",
            "_view_module_version": "1.5.0",
            "_view_name": "ButtonView",
            "button_style": "",
            "description": "Clear Table",
            "disabled": false,
            "icon": "",
            "layout": "IPY_MODEL_2da0aa2ff00c4f998ee71aa3377e6c91",
            "style": "IPY_MODEL_ff208060223247a3b879dcc49ee3bd8e",
            "tooltip": ""
          }
        },
        "e2f688148d1145cd98ea16c8e395add7": {
          "model_module": "@jupyter-widgets/base",
          "model_name": "LayoutModel",
          "model_module_version": "1.2.0",
          "state": {
            "_model_module": "@jupyter-widgets/base",
            "_model_module_version": "1.2.0",
            "_model_name": "LayoutModel",
            "_view_count": null,
            "_view_module": "@jupyter-widgets/base",
            "_view_module_version": "1.2.0",
            "_view_name": "LayoutView",
            "align_content": null,
            "align_items": null,
            "align_self": null,
            "border": null,
            "bottom": null,
            "display": null,
            "flex": null,
            "flex_flow": null,
            "grid_area": null,
            "grid_auto_columns": null,
            "grid_auto_flow": null,
            "grid_auto_rows": null,
            "grid_column": null,
            "grid_gap": null,
            "grid_row": null,
            "grid_template_areas": null,
            "grid_template_columns": null,
            "grid_template_rows": null,
            "height": null,
            "justify_content": null,
            "justify_items": null,
            "left": null,
            "margin": null,
            "max_height": null,
            "max_width": null,
            "min_height": null,
            "min_width": null,
            "object_fit": null,
            "object_position": null,
            "order": null,
            "overflow": null,
            "overflow_x": null,
            "overflow_y": null,
            "padding": null,
            "right": null,
            "top": null,
            "visibility": null,
            "width": null
          }
        },
        "ac2aeaa3613d4a0e880df88a49586c9c": {
          "model_module": "@jupyter-widgets/base",
          "model_name": "LayoutModel",
          "model_module_version": "1.2.0",
          "state": {
            "_model_module": "@jupyter-widgets/base",
            "_model_module_version": "1.2.0",
            "_model_name": "LayoutModel",
            "_view_count": null,
            "_view_module": "@jupyter-widgets/base",
            "_view_module_version": "1.2.0",
            "_view_name": "LayoutView",
            "align_content": null,
            "align_items": null,
            "align_self": null,
            "border": null,
            "bottom": null,
            "display": null,
            "flex": null,
            "flex_flow": null,
            "grid_area": null,
            "grid_auto_columns": null,
            "grid_auto_flow": null,
            "grid_auto_rows": null,
            "grid_column": null,
            "grid_gap": null,
            "grid_row": null,
            "grid_template_areas": null,
            "grid_template_columns": null,
            "grid_template_rows": null,
            "height": null,
            "justify_content": null,
            "justify_items": null,
            "left": null,
            "margin": null,
            "max_height": null,
            "max_width": null,
            "min_height": null,
            "min_width": null,
            "object_fit": null,
            "object_position": null,
            "order": null,
            "overflow": null,
            "overflow_x": null,
            "overflow_y": null,
            "padding": null,
            "right": null,
            "top": null,
            "visibility": null,
            "width": null
          }
        },
        "a08358caafc74ccc8115cddf5675ce77": {
          "model_module": "@jupyter-widgets/controls",
          "model_name": "ButtonStyleModel",
          "model_module_version": "1.5.0",
          "state": {
            "_model_module": "@jupyter-widgets/controls",
            "_model_module_version": "1.5.0",
            "_model_name": "ButtonStyleModel",
            "_view_count": null,
            "_view_module": "@jupyter-widgets/base",
            "_view_module_version": "1.2.0",
            "_view_name": "StyleView",
            "button_color": null,
            "font_weight": ""
          }
        },
        "88e4251469a24338856866bb75144ba3": {
          "model_module": "@jupyter-widgets/base",
          "model_name": "LayoutModel",
          "model_module_version": "1.2.0",
          "state": {
            "_model_module": "@jupyter-widgets/base",
            "_model_module_version": "1.2.0",
            "_model_name": "LayoutModel",
            "_view_count": null,
            "_view_module": "@jupyter-widgets/base",
            "_view_module_version": "1.2.0",
            "_view_name": "LayoutView",
            "align_content": null,
            "align_items": null,
            "align_self": null,
            "border": null,
            "bottom": null,
            "display": null,
            "flex": null,
            "flex_flow": null,
            "grid_area": null,
            "grid_auto_columns": null,
            "grid_auto_flow": null,
            "grid_auto_rows": null,
            "grid_column": null,
            "grid_gap": null,
            "grid_row": null,
            "grid_template_areas": null,
            "grid_template_columns": null,
            "grid_template_rows": null,
            "height": null,
            "justify_content": null,
            "justify_items": null,
            "left": null,
            "margin": null,
            "max_height": null,
            "max_width": null,
            "min_height": null,
            "min_width": null,
            "object_fit": null,
            "object_position": null,
            "order": null,
            "overflow": null,
            "overflow_x": null,
            "overflow_y": null,
            "padding": null,
            "right": null,
            "top": null,
            "visibility": null,
            "width": null
          }
        },
        "13e0786074be4cbbb9f2feac2fe22a3e": {
          "model_module": "@jupyter-widgets/controls",
          "model_name": "ButtonStyleModel",
          "model_module_version": "1.5.0",
          "state": {
            "_model_module": "@jupyter-widgets/controls",
            "_model_module_version": "1.5.0",
            "_model_name": "ButtonStyleModel",
            "_view_count": null,
            "_view_module": "@jupyter-widgets/base",
            "_view_module_version": "1.2.0",
            "_view_name": "StyleView",
            "button_color": null,
            "font_weight": ""
          }
        },
        "0952cd19599941619317a9b469327624": {
          "model_module": "@jupyter-widgets/base",
          "model_name": "LayoutModel",
          "model_module_version": "1.2.0",
          "state": {
            "_model_module": "@jupyter-widgets/base",
            "_model_module_version": "1.2.0",
            "_model_name": "LayoutModel",
            "_view_count": null,
            "_view_module": "@jupyter-widgets/base",
            "_view_module_version": "1.2.0",
            "_view_name": "LayoutView",
            "align_content": null,
            "align_items": null,
            "align_self": null,
            "border": null,
            "bottom": null,
            "display": null,
            "flex": null,
            "flex_flow": null,
            "grid_area": null,
            "grid_auto_columns": null,
            "grid_auto_flow": null,
            "grid_auto_rows": null,
            "grid_column": null,
            "grid_gap": null,
            "grid_row": null,
            "grid_template_areas": null,
            "grid_template_columns": null,
            "grid_template_rows": null,
            "height": null,
            "justify_content": null,
            "justify_items": null,
            "left": null,
            "margin": null,
            "max_height": null,
            "max_width": null,
            "min_height": null,
            "min_width": null,
            "object_fit": null,
            "object_position": null,
            "order": null,
            "overflow": null,
            "overflow_x": null,
            "overflow_y": null,
            "padding": null,
            "right": null,
            "top": null,
            "visibility": null,
            "width": null
          }
        },
        "991ead11a26b4db0825d3a16cac235fd": {
          "model_module": "@jupyter-widgets/controls",
          "model_name": "ButtonStyleModel",
          "model_module_version": "1.5.0",
          "state": {
            "_model_module": "@jupyter-widgets/controls",
            "_model_module_version": "1.5.0",
            "_model_name": "ButtonStyleModel",
            "_view_count": null,
            "_view_module": "@jupyter-widgets/base",
            "_view_module_version": "1.2.0",
            "_view_name": "StyleView",
            "button_color": null,
            "font_weight": ""
          }
        },
        "2da0aa2ff00c4f998ee71aa3377e6c91": {
          "model_module": "@jupyter-widgets/base",
          "model_name": "LayoutModel",
          "model_module_version": "1.2.0",
          "state": {
            "_model_module": "@jupyter-widgets/base",
            "_model_module_version": "1.2.0",
            "_model_name": "LayoutModel",
            "_view_count": null,
            "_view_module": "@jupyter-widgets/base",
            "_view_module_version": "1.2.0",
            "_view_name": "LayoutView",
            "align_content": null,
            "align_items": null,
            "align_self": null,
            "border": null,
            "bottom": null,
            "display": null,
            "flex": null,
            "flex_flow": null,
            "grid_area": null,
            "grid_auto_columns": null,
            "grid_auto_flow": null,
            "grid_auto_rows": null,
            "grid_column": null,
            "grid_gap": null,
            "grid_row": null,
            "grid_template_areas": null,
            "grid_template_columns": null,
            "grid_template_rows": null,
            "height": null,
            "justify_content": null,
            "justify_items": null,
            "left": null,
            "margin": null,
            "max_height": null,
            "max_width": null,
            "min_height": null,
            "min_width": null,
            "object_fit": null,
            "object_position": null,
            "order": null,
            "overflow": null,
            "overflow_x": null,
            "overflow_y": null,
            "padding": null,
            "right": null,
            "top": null,
            "visibility": null,
            "width": null
          }
        },
        "ff208060223247a3b879dcc49ee3bd8e": {
          "model_module": "@jupyter-widgets/controls",
          "model_name": "ButtonStyleModel",
          "model_module_version": "1.5.0",
          "state": {
            "_model_module": "@jupyter-widgets/controls",
            "_model_module_version": "1.5.0",
            "_model_name": "ButtonStyleModel",
            "_view_count": null,
            "_view_module": "@jupyter-widgets/base",
            "_view_module_version": "1.2.0",
            "_view_name": "StyleView",
            "button_color": null,
            "font_weight": ""
          }
        }
      }
    },
    "accelerator": "GPU"
  },
  "cells": [
    {
      "cell_type": "markdown",
      "source": [
        "# Translite - A Low Resoure Modular Multi-Lingual NLP Translator"
      ],
      "metadata": {
        "id": "DyMLKWK3WKpW"
      }
    },
    {
      "cell_type": "markdown",
      "source": [
        "## Section 1 - Configuration\n",
        "This is where the datasets will be prepared and configured. User is capable of adding as many languages as they'd like to this. The main requirement will be that datasets must be stored on Kaggle and in the following formats:\n",
        "  - CSV\n",
        "  - Excel\n",
        "  - JSON\n",
        "  - Parquet\n",
        "\n",
        "This can be checked by looking at the **Data Explorer** on the Kaggle page for your dataset and seeing if the files have the extension \".json\", \".csv\", \".xlsx\", or \".parquet\"."
      ],
      "metadata": {
        "id": "32U9cP6vW0Uz"
      }
    },
    {
      "cell_type": "markdown",
      "source": [
        "#### 1.1 - Install Requirements"
      ],
      "metadata": {
        "id": "fU4jxUe7XUau"
      }
    },
    {
      "cell_type": "code",
      "execution_count": 1,
      "metadata": {
        "id": "tLyJc5mfWILI",
        "colab": {
          "base_uri": "https://localhost:8080/"
        },
        "outputId": "1678e219-470e-4d59-d8e1-6651b39a9a4f"
      },
      "outputs": [
        {
          "output_type": "stream",
          "name": "stdout",
          "text": [
            "Requirement already satisfied: ipywidgets in /usr/local/lib/python3.11/dist-packages (7.7.1)\n",
            "Requirement already satisfied: pandas in /usr/local/lib/python3.11/dist-packages (2.2.2)\n",
            "Requirement already satisfied: kaggle in /usr/local/lib/python3.11/dist-packages (1.7.4.2)\n",
            "Requirement already satisfied: ipykernel>=4.5.1 in /usr/local/lib/python3.11/dist-packages (from ipywidgets) (6.17.1)\n",
            "Requirement already satisfied: ipython-genutils~=0.2.0 in /usr/local/lib/python3.11/dist-packages (from ipywidgets) (0.2.0)\n",
            "Requirement already satisfied: traitlets>=4.3.1 in /usr/local/lib/python3.11/dist-packages (from ipywidgets) (5.7.1)\n",
            "Requirement already satisfied: widgetsnbextension~=3.6.0 in /usr/local/lib/python3.11/dist-packages (from ipywidgets) (3.6.10)\n",
            "Requirement already satisfied: ipython>=4.0.0 in /usr/local/lib/python3.11/dist-packages (from ipywidgets) (7.34.0)\n",
            "Requirement already satisfied: jupyterlab-widgets>=1.0.0 in /usr/local/lib/python3.11/dist-packages (from ipywidgets) (3.0.13)\n",
            "Requirement already satisfied: numpy>=1.23.2 in /usr/local/lib/python3.11/dist-packages (from pandas) (2.0.2)\n",
            "Requirement already satisfied: python-dateutil>=2.8.2 in /usr/local/lib/python3.11/dist-packages (from pandas) (2.8.2)\n",
            "Requirement already satisfied: pytz>=2020.1 in /usr/local/lib/python3.11/dist-packages (from pandas) (2025.2)\n",
            "Requirement already satisfied: tzdata>=2022.7 in /usr/local/lib/python3.11/dist-packages (from pandas) (2025.2)\n",
            "Requirement already satisfied: bleach in /usr/local/lib/python3.11/dist-packages (from kaggle) (6.2.0)\n",
            "Requirement already satisfied: certifi>=14.05.14 in /usr/local/lib/python3.11/dist-packages (from kaggle) (2025.1.31)\n",
            "Requirement already satisfied: charset-normalizer in /usr/local/lib/python3.11/dist-packages (from kaggle) (3.4.1)\n",
            "Requirement already satisfied: idna in /usr/local/lib/python3.11/dist-packages (from kaggle) (3.10)\n",
            "Requirement already satisfied: protobuf in /usr/local/lib/python3.11/dist-packages (from kaggle) (5.29.4)\n",
            "Requirement already satisfied: python-slugify in /usr/local/lib/python3.11/dist-packages (from kaggle) (8.0.4)\n",
            "Requirement already satisfied: requests in /usr/local/lib/python3.11/dist-packages (from kaggle) (2.32.3)\n",
            "Requirement already satisfied: setuptools>=21.0.0 in /usr/local/lib/python3.11/dist-packages (from kaggle) (75.2.0)\n",
            "Requirement already satisfied: six>=1.10 in /usr/local/lib/python3.11/dist-packages (from kaggle) (1.17.0)\n",
            "Requirement already satisfied: text-unidecode in /usr/local/lib/python3.11/dist-packages (from kaggle) (1.3)\n",
            "Requirement already satisfied: tqdm in /usr/local/lib/python3.11/dist-packages (from kaggle) (4.67.1)\n",
            "Requirement already satisfied: urllib3>=1.15.1 in /usr/local/lib/python3.11/dist-packages (from kaggle) (2.3.0)\n",
            "Requirement already satisfied: webencodings in /usr/local/lib/python3.11/dist-packages (from kaggle) (0.5.1)\n",
            "Requirement already satisfied: debugpy>=1.0 in /usr/local/lib/python3.11/dist-packages (from ipykernel>=4.5.1->ipywidgets) (1.8.0)\n",
            "Requirement already satisfied: jupyter-client>=6.1.12 in /usr/local/lib/python3.11/dist-packages (from ipykernel>=4.5.1->ipywidgets) (6.1.12)\n",
            "Requirement already satisfied: matplotlib-inline>=0.1 in /usr/local/lib/python3.11/dist-packages (from ipykernel>=4.5.1->ipywidgets) (0.1.7)\n",
            "Requirement already satisfied: nest-asyncio in /usr/local/lib/python3.11/dist-packages (from ipykernel>=4.5.1->ipywidgets) (1.6.0)\n",
            "Requirement already satisfied: packaging in /usr/local/lib/python3.11/dist-packages (from ipykernel>=4.5.1->ipywidgets) (24.2)\n",
            "Requirement already satisfied: psutil in /usr/local/lib/python3.11/dist-packages (from ipykernel>=4.5.1->ipywidgets) (5.9.5)\n",
            "Requirement already satisfied: pyzmq>=17 in /usr/local/lib/python3.11/dist-packages (from ipykernel>=4.5.1->ipywidgets) (24.0.1)\n",
            "Requirement already satisfied: tornado>=6.1 in /usr/local/lib/python3.11/dist-packages (from ipykernel>=4.5.1->ipywidgets) (6.4.2)\n",
            "Collecting jedi>=0.16 (from ipython>=4.0.0->ipywidgets)\n",
            "  Downloading jedi-0.19.2-py2.py3-none-any.whl.metadata (22 kB)\n",
            "Requirement already satisfied: decorator in /usr/local/lib/python3.11/dist-packages (from ipython>=4.0.0->ipywidgets) (4.4.2)\n",
            "Requirement already satisfied: pickleshare in /usr/local/lib/python3.11/dist-packages (from ipython>=4.0.0->ipywidgets) (0.7.5)\n",
            "Requirement already satisfied: prompt-toolkit!=3.0.0,!=3.0.1,<3.1.0,>=2.0.0 in /usr/local/lib/python3.11/dist-packages (from ipython>=4.0.0->ipywidgets) (3.0.50)\n",
            "Requirement already satisfied: pygments in /usr/local/lib/python3.11/dist-packages (from ipython>=4.0.0->ipywidgets) (2.18.0)\n",
            "Requirement already satisfied: backcall in /usr/local/lib/python3.11/dist-packages (from ipython>=4.0.0->ipywidgets) (0.2.0)\n",
            "Requirement already satisfied: pexpect>4.3 in /usr/local/lib/python3.11/dist-packages (from ipython>=4.0.0->ipywidgets) (4.9.0)\n",
            "Requirement already satisfied: notebook>=4.4.1 in /usr/local/lib/python3.11/dist-packages (from widgetsnbextension~=3.6.0->ipywidgets) (6.5.7)\n",
            "Requirement already satisfied: parso<0.9.0,>=0.8.4 in /usr/local/lib/python3.11/dist-packages (from jedi>=0.16->ipython>=4.0.0->ipywidgets) (0.8.4)\n",
            "Requirement already satisfied: jupyter-core>=4.6.0 in /usr/local/lib/python3.11/dist-packages (from jupyter-client>=6.1.12->ipykernel>=4.5.1->ipywidgets) (5.7.2)\n",
            "Requirement already satisfied: jinja2 in /usr/local/lib/python3.11/dist-packages (from notebook>=4.4.1->widgetsnbextension~=3.6.0->ipywidgets) (3.1.6)\n",
            "Requirement already satisfied: argon2-cffi in /usr/local/lib/python3.11/dist-packages (from notebook>=4.4.1->widgetsnbextension~=3.6.0->ipywidgets) (23.1.0)\n",
            "Requirement already satisfied: nbformat in /usr/local/lib/python3.11/dist-packages (from notebook>=4.4.1->widgetsnbextension~=3.6.0->ipywidgets) (5.10.4)\n",
            "Requirement already satisfied: nbconvert>=5 in /usr/local/lib/python3.11/dist-packages (from notebook>=4.4.1->widgetsnbextension~=3.6.0->ipywidgets) (7.16.6)\n",
            "Requirement already satisfied: Send2Trash>=1.8.0 in /usr/local/lib/python3.11/dist-packages (from notebook>=4.4.1->widgetsnbextension~=3.6.0->ipywidgets) (1.8.3)\n",
            "Requirement already satisfied: terminado>=0.8.3 in /usr/local/lib/python3.11/dist-packages (from notebook>=4.4.1->widgetsnbextension~=3.6.0->ipywidgets) (0.18.1)\n",
            "Requirement already satisfied: prometheus-client in /usr/local/lib/python3.11/dist-packages (from notebook>=4.4.1->widgetsnbextension~=3.6.0->ipywidgets) (0.21.1)\n",
            "Requirement already satisfied: nbclassic>=0.4.7 in /usr/local/lib/python3.11/dist-packages (from notebook>=4.4.1->widgetsnbextension~=3.6.0->ipywidgets) (1.2.0)\n",
            "Requirement already satisfied: ptyprocess>=0.5 in /usr/local/lib/python3.11/dist-packages (from pexpect>4.3->ipython>=4.0.0->ipywidgets) (0.7.0)\n",
            "Requirement already satisfied: wcwidth in /usr/local/lib/python3.11/dist-packages (from prompt-toolkit!=3.0.0,!=3.0.1,<3.1.0,>=2.0.0->ipython>=4.0.0->ipywidgets) (0.2.13)\n",
            "Requirement already satisfied: platformdirs>=2.5 in /usr/local/lib/python3.11/dist-packages (from jupyter-core>=4.6.0->jupyter-client>=6.1.12->ipykernel>=4.5.1->ipywidgets) (4.3.7)\n",
            "Requirement already satisfied: notebook-shim>=0.2.3 in /usr/local/lib/python3.11/dist-packages (from nbclassic>=0.4.7->notebook>=4.4.1->widgetsnbextension~=3.6.0->ipywidgets) (0.2.4)\n",
            "Requirement already satisfied: beautifulsoup4 in /usr/local/lib/python3.11/dist-packages (from nbconvert>=5->notebook>=4.4.1->widgetsnbextension~=3.6.0->ipywidgets) (4.13.3)\n",
            "Requirement already satisfied: defusedxml in /usr/local/lib/python3.11/dist-packages (from nbconvert>=5->notebook>=4.4.1->widgetsnbextension~=3.6.0->ipywidgets) (0.7.1)\n",
            "Requirement already satisfied: jupyterlab-pygments in /usr/local/lib/python3.11/dist-packages (from nbconvert>=5->notebook>=4.4.1->widgetsnbextension~=3.6.0->ipywidgets) (0.3.0)\n",
            "Requirement already satisfied: markupsafe>=2.0 in /usr/local/lib/python3.11/dist-packages (from nbconvert>=5->notebook>=4.4.1->widgetsnbextension~=3.6.0->ipywidgets) (3.0.2)\n",
            "Requirement already satisfied: mistune<4,>=2.0.3 in /usr/local/lib/python3.11/dist-packages (from nbconvert>=5->notebook>=4.4.1->widgetsnbextension~=3.6.0->ipywidgets) (3.1.3)\n",
            "Requirement already satisfied: nbclient>=0.5.0 in /usr/local/lib/python3.11/dist-packages (from nbconvert>=5->notebook>=4.4.1->widgetsnbextension~=3.6.0->ipywidgets) (0.10.2)\n",
            "Requirement already satisfied: pandocfilters>=1.4.1 in /usr/local/lib/python3.11/dist-packages (from nbconvert>=5->notebook>=4.4.1->widgetsnbextension~=3.6.0->ipywidgets) (1.5.1)\n",
            "Requirement already satisfied: fastjsonschema>=2.15 in /usr/local/lib/python3.11/dist-packages (from nbformat->notebook>=4.4.1->widgetsnbextension~=3.6.0->ipywidgets) (2.21.1)\n",
            "Requirement already satisfied: jsonschema>=2.6 in /usr/local/lib/python3.11/dist-packages (from nbformat->notebook>=4.4.1->widgetsnbextension~=3.6.0->ipywidgets) (4.23.0)\n",
            "Requirement already satisfied: argon2-cffi-bindings in /usr/local/lib/python3.11/dist-packages (from argon2-cffi->notebook>=4.4.1->widgetsnbextension~=3.6.0->ipywidgets) (21.2.0)\n",
            "Requirement already satisfied: tinycss2<1.5,>=1.1.0 in /usr/local/lib/python3.11/dist-packages (from bleach[css]!=5.0.0->nbconvert>=5->notebook>=4.4.1->widgetsnbextension~=3.6.0->ipywidgets) (1.4.0)\n",
            "Requirement already satisfied: attrs>=22.2.0 in /usr/local/lib/python3.11/dist-packages (from jsonschema>=2.6->nbformat->notebook>=4.4.1->widgetsnbextension~=3.6.0->ipywidgets) (25.3.0)\n",
            "Requirement already satisfied: jsonschema-specifications>=2023.03.6 in /usr/local/lib/python3.11/dist-packages (from jsonschema>=2.6->nbformat->notebook>=4.4.1->widgetsnbextension~=3.6.0->ipywidgets) (2024.10.1)\n",
            "Requirement already satisfied: referencing>=0.28.4 in /usr/local/lib/python3.11/dist-packages (from jsonschema>=2.6->nbformat->notebook>=4.4.1->widgetsnbextension~=3.6.0->ipywidgets) (0.36.2)\n",
            "Requirement already satisfied: rpds-py>=0.7.1 in /usr/local/lib/python3.11/dist-packages (from jsonschema>=2.6->nbformat->notebook>=4.4.1->widgetsnbextension~=3.6.0->ipywidgets) (0.24.0)\n",
            "Requirement already satisfied: jupyter-server<3,>=1.8 in /usr/local/lib/python3.11/dist-packages (from notebook-shim>=0.2.3->nbclassic>=0.4.7->notebook>=4.4.1->widgetsnbextension~=3.6.0->ipywidgets) (1.16.0)\n",
            "Requirement already satisfied: cffi>=1.0.1 in /usr/local/lib/python3.11/dist-packages (from argon2-cffi-bindings->argon2-cffi->notebook>=4.4.1->widgetsnbextension~=3.6.0->ipywidgets) (1.17.1)\n",
            "Requirement already satisfied: soupsieve>1.2 in /usr/local/lib/python3.11/dist-packages (from beautifulsoup4->nbconvert>=5->notebook>=4.4.1->widgetsnbextension~=3.6.0->ipywidgets) (2.6)\n",
            "Requirement already satisfied: typing-extensions>=4.0.0 in /usr/local/lib/python3.11/dist-packages (from beautifulsoup4->nbconvert>=5->notebook>=4.4.1->widgetsnbextension~=3.6.0->ipywidgets) (4.13.1)\n",
            "Requirement already satisfied: pycparser in /usr/local/lib/python3.11/dist-packages (from cffi>=1.0.1->argon2-cffi-bindings->argon2-cffi->notebook>=4.4.1->widgetsnbextension~=3.6.0->ipywidgets) (2.22)\n",
            "Requirement already satisfied: anyio>=3.1.0 in /usr/local/lib/python3.11/dist-packages (from jupyter-server<3,>=1.8->notebook-shim>=0.2.3->nbclassic>=0.4.7->notebook>=4.4.1->widgetsnbextension~=3.6.0->ipywidgets) (4.9.0)\n",
            "Requirement already satisfied: websocket-client in /usr/local/lib/python3.11/dist-packages (from jupyter-server<3,>=1.8->notebook-shim>=0.2.3->nbclassic>=0.4.7->notebook>=4.4.1->widgetsnbextension~=3.6.0->ipywidgets) (1.8.0)\n",
            "Requirement already satisfied: sniffio>=1.1 in /usr/local/lib/python3.11/dist-packages (from anyio>=3.1.0->jupyter-server<3,>=1.8->notebook-shim>=0.2.3->nbclassic>=0.4.7->notebook>=4.4.1->widgetsnbextension~=3.6.0->ipywidgets) (1.3.1)\n",
            "Downloading jedi-0.19.2-py2.py3-none-any.whl (1.6 MB)\n",
            "\u001b[2K   \u001b[90m━━━━━━━━━━━━━━━━━━━━━━━━━━━━━━━━━━━━━━━━\u001b[0m \u001b[32m1.6/1.6 MB\u001b[0m \u001b[31m18.4 MB/s\u001b[0m eta \u001b[36m0:00:00\u001b[0m\n",
            "\u001b[?25hInstalling collected packages: jedi\n",
            "Successfully installed jedi-0.19.2\n"
          ]
        }
      ],
      "source": [
        "!pip install ipywidgets pandas kaggle"
      ]
    },
    {
      "cell_type": "markdown",
      "source": [
        "#### 1.2 - Load/Create Config"
      ],
      "metadata": {
        "id": "EbjYCSfRY8ln"
      }
    },
    {
      "cell_type": "markdown",
      "source": [
        "Here you will add your datasets for all of the languages you'd like to translate to English. You will need to add the url to the raw dataset, the name of the column where the English versions are, the name of the column where the non-English versions are stored, and the actual name of the language. It is suggested that you use the export button to save your config when you're done so that you can quickly import again when you return. A sample dataset with Spanish and Italian is available as well."
      ],
      "metadata": {
        "id": "RPsdsOLGeHAO"
      }
    },
    {
      "cell_type": "code",
      "source": [
        "import ipywidgets as widgets\n",
        "from IPython.display import display, clear_output\n",
        "import pandas as pd\n",
        "from google.colab import files\n",
        "\n",
        "df = pd.DataFrame(columns=[\n",
        "    \"Kaggle Dataset Name\",\n",
        "    \"Language Name\",\n",
        "    \"English Column Name\",\n",
        "    \"Other Language Column Name\"])\n",
        "\n",
        "def display_table(df):\n",
        "    clear_output(wait=True)\n",
        "    display(ds_uri, lang, eng_col, natv_col)\n",
        "    display(widgets.HBox((add_button, import_button, export_button, clear_button)))\n",
        "    display(df)\n",
        "\n",
        "def add_row(ds_uri, lang, eng_col, natv_col):\n",
        "    global df\n",
        "    new_row = pd.DataFrame([[ds_uri, lang, eng_col, natv_col]], columns=df.columns.tolist())\n",
        "    df = pd.concat([df, new_row], ignore_index=True)\n",
        "    display_table(df)\n",
        "\n",
        "ds_uri = widgets.Text(description=\"Kaggle Dataset Name:\",\n",
        "                      layout=widgets.Layout(width=\"500px\"),\n",
        "                      style=dict(description_width='initial'))\n",
        "lang = widgets.Text(description=\"Language Name:\",\n",
        "                      layout=widgets.Layout(width=\"500px\"),\n",
        "                      style=dict(description_width='initial'))\n",
        "eng_col = widgets.Text(description=\"English Column Name:\",\n",
        "                      layout=widgets.Layout(width=\"500px\"),\n",
        "                      style=dict(description_width='initial'))\n",
        "natv_col = widgets.Text(description=\"Other Language Column Name:\",\n",
        "                      layout=widgets.Layout(width=\"500px\"),\n",
        "                      style=dict(description_width='initial'))\n",
        "add_button = widgets.Button(description=\"Add Row\")\n",
        "import_button = widgets.Button(description=\"Import Dataset\")\n",
        "export_button = widgets.Button(description=\"Export Dataset\")\n",
        "clear_button = widgets.Button(description=\"Clear Table\")\n",
        "\n",
        "def on_import_button_click(b):\n",
        "    uploaded = files.upload()\n",
        "    filename = next(iter(uploaded))\n",
        "    global df\n",
        "    df = pd.read_json(filename)\n",
        "    display_table(df)\n",
        "\n",
        "def on_export_button_click(b):\n",
        "    df.to_json(\"translite_datasets.json\", index=False)\n",
        "    files.download(\"translite_datasets.json\")\n",
        "\n",
        "def on_add_button_click(b):\n",
        "    add_row(ds_uri.value, lang.value, eng_col.value, natv_col.value)\n",
        "    ds_uri.value = \"\"\n",
        "    lang.value = \"\"\n",
        "    eng_col.value = \"\"\n",
        "    natv_col.value = \"\"\n",
        "\n",
        "def on_clear_button_click(b):\n",
        "    global df\n",
        "    df = pd.DataFrame(columns=[\n",
        "        \"Kaggle Dataset Name\",\n",
        "        \"Language Name\",\n",
        "        \"English Column Name\",\n",
        "        \"Other Language Column Name\"])\n",
        "    display_table(df)\n",
        "\n",
        "add_button.on_click(on_add_button_click)\n",
        "import_button.on_click(on_import_button_click)\n",
        "export_button.on_click(on_export_button_click)\n",
        "clear_button.on_click(on_clear_button_click)\n",
        "display_table(df)\n"
      ],
      "metadata": {
        "colab": {
          "base_uri": "https://localhost:8080/",
          "height": 243,
          "referenced_widgets": [
            "37b7db3924cd4d01abdd6b30c2b68dd5",
            "483e063dea5c450a9cf8a39450bb472e",
            "2d90bd1b9d1a467696f7e22ca646a981",
            "90664c21aa0c455192eebc0a701e30f7",
            "00ff33f555d2433db919adbfa45a17fb",
            "b28a0c51a5074294831d631b9636f596",
            "54e16ea98f9643509f713b72f2836c65",
            "1c61765b90684b0bba4d436325942e47",
            "04550d2ba3774747943fc4befc3eb749",
            "7bf2660193054c5c95093463cbc94c6a",
            "a2534187db6e4a2f97968a1c9f202d19",
            "1828a26aed41452aa9f5ecf49eef06e9",
            "09834605732a4ff5a9c711887a0624f2",
            "1bcaa7eccb054025bbe42f0e78d00ffb",
            "ddf3d73acc0c4caebf62acf262d3b403",
            "cedb97f7498a4c74b184846b05ea5c42",
            "6145468e322540cfb485ce0ae6ed0288",
            "e2f688148d1145cd98ea16c8e395add7",
            "ac2aeaa3613d4a0e880df88a49586c9c",
            "a08358caafc74ccc8115cddf5675ce77",
            "88e4251469a24338856866bb75144ba3",
            "13e0786074be4cbbb9f2feac2fe22a3e",
            "0952cd19599941619317a9b469327624",
            "991ead11a26b4db0825d3a16cac235fd",
            "2da0aa2ff00c4f998ee71aa3377e6c91",
            "ff208060223247a3b879dcc49ee3bd8e"
          ]
        },
        "id": "dNerTjdiXgif",
        "outputId": "f6a2f337-ec1c-4356-92c3-03624ea24002"
      },
      "execution_count": 2,
      "outputs": [
        {
          "output_type": "display_data",
          "data": {
            "text/plain": [
              "Text(value='', description='Kaggle Dataset Name:', layout=Layout(width='500px'), style=DescriptionStyle(descri…"
            ],
            "application/vnd.jupyter.widget-view+json": {
              "version_major": 2,
              "version_minor": 0,
              "model_id": "37b7db3924cd4d01abdd6b30c2b68dd5"
            }
          },
          "metadata": {}
        },
        {
          "output_type": "display_data",
          "data": {
            "text/plain": [
              "Text(value='', description='Language Name:', layout=Layout(width='500px'), style=DescriptionStyle(description_…"
            ],
            "application/vnd.jupyter.widget-view+json": {
              "version_major": 2,
              "version_minor": 0,
              "model_id": "90664c21aa0c455192eebc0a701e30f7"
            }
          },
          "metadata": {}
        },
        {
          "output_type": "display_data",
          "data": {
            "text/plain": [
              "Text(value='', description='English Column Name:', layout=Layout(width='500px'), style=DescriptionStyle(descri…"
            ],
            "application/vnd.jupyter.widget-view+json": {
              "version_major": 2,
              "version_minor": 0,
              "model_id": "54e16ea98f9643509f713b72f2836c65"
            }
          },
          "metadata": {}
        },
        {
          "output_type": "display_data",
          "data": {
            "text/plain": [
              "Text(value='', description='Other Language Column Name:', layout=Layout(width='500px'), style=DescriptionStyle…"
            ],
            "application/vnd.jupyter.widget-view+json": {
              "version_major": 2,
              "version_minor": 0,
              "model_id": "7bf2660193054c5c95093463cbc94c6a"
            }
          },
          "metadata": {}
        },
        {
          "output_type": "display_data",
          "data": {
            "text/plain": [
              "HBox(children=(Button(description='Add Row', style=ButtonStyle()), Button(description='Import Dataset', style=…"
            ],
            "application/vnd.jupyter.widget-view+json": {
              "version_major": 2,
              "version_minor": 0,
              "model_id": "09834605732a4ff5a9c711887a0624f2"
            }
          },
          "metadata": {}
        },
        {
          "output_type": "display_data",
          "data": {
            "text/plain": [
              "Empty DataFrame\n",
              "Columns: [Kaggle Dataset Name, Language Name, English Column Name, Other Language Column Name]\n",
              "Index: []"
            ],
            "text/html": [
              "\n",
              "  <div id=\"df-4a7dc8e8-ac21-4054-b4dc-94952db886dc\" class=\"colab-df-container\">\n",
              "    <div>\n",
              "<style scoped>\n",
              "    .dataframe tbody tr th:only-of-type {\n",
              "        vertical-align: middle;\n",
              "    }\n",
              "\n",
              "    .dataframe tbody tr th {\n",
              "        vertical-align: top;\n",
              "    }\n",
              "\n",
              "    .dataframe thead th {\n",
              "        text-align: right;\n",
              "    }\n",
              "</style>\n",
              "<table border=\"1\" class=\"dataframe\">\n",
              "  <thead>\n",
              "    <tr style=\"text-align: right;\">\n",
              "      <th></th>\n",
              "      <th>Kaggle Dataset Name</th>\n",
              "      <th>Language Name</th>\n",
              "      <th>English Column Name</th>\n",
              "      <th>Other Language Column Name</th>\n",
              "    </tr>\n",
              "  </thead>\n",
              "  <tbody>\n",
              "  </tbody>\n",
              "</table>\n",
              "</div>\n",
              "    <div class=\"colab-df-buttons\">\n",
              "\n",
              "  <div class=\"colab-df-container\">\n",
              "    <button class=\"colab-df-convert\" onclick=\"convertToInteractive('df-4a7dc8e8-ac21-4054-b4dc-94952db886dc')\"\n",
              "            title=\"Convert this dataframe to an interactive table.\"\n",
              "            style=\"display:none;\">\n",
              "\n",
              "  <svg xmlns=\"http://www.w3.org/2000/svg\" height=\"24px\" viewBox=\"0 -960 960 960\">\n",
              "    <path d=\"M120-120v-720h720v720H120Zm60-500h600v-160H180v160Zm220 220h160v-160H400v160Zm0 220h160v-160H400v160ZM180-400h160v-160H180v160Zm440 0h160v-160H620v160ZM180-180h160v-160H180v160Zm440 0h160v-160H620v160Z\"/>\n",
              "  </svg>\n",
              "    </button>\n",
              "\n",
              "  <style>\n",
              "    .colab-df-container {\n",
              "      display:flex;\n",
              "      gap: 12px;\n",
              "    }\n",
              "\n",
              "    .colab-df-convert {\n",
              "      background-color: #E8F0FE;\n",
              "      border: none;\n",
              "      border-radius: 50%;\n",
              "      cursor: pointer;\n",
              "      display: none;\n",
              "      fill: #1967D2;\n",
              "      height: 32px;\n",
              "      padding: 0 0 0 0;\n",
              "      width: 32px;\n",
              "    }\n",
              "\n",
              "    .colab-df-convert:hover {\n",
              "      background-color: #E2EBFA;\n",
              "      box-shadow: 0px 1px 2px rgba(60, 64, 67, 0.3), 0px 1px 3px 1px rgba(60, 64, 67, 0.15);\n",
              "      fill: #174EA6;\n",
              "    }\n",
              "\n",
              "    .colab-df-buttons div {\n",
              "      margin-bottom: 4px;\n",
              "    }\n",
              "\n",
              "    [theme=dark] .colab-df-convert {\n",
              "      background-color: #3B4455;\n",
              "      fill: #D2E3FC;\n",
              "    }\n",
              "\n",
              "    [theme=dark] .colab-df-convert:hover {\n",
              "      background-color: #434B5C;\n",
              "      box-shadow: 0px 1px 3px 1px rgba(0, 0, 0, 0.15);\n",
              "      filter: drop-shadow(0px 1px 2px rgba(0, 0, 0, 0.3));\n",
              "      fill: #FFFFFF;\n",
              "    }\n",
              "  </style>\n",
              "\n",
              "    <script>\n",
              "      const buttonEl =\n",
              "        document.querySelector('#df-4a7dc8e8-ac21-4054-b4dc-94952db886dc button.colab-df-convert');\n",
              "      buttonEl.style.display =\n",
              "        google.colab.kernel.accessAllowed ? 'block' : 'none';\n",
              "\n",
              "      async function convertToInteractive(key) {\n",
              "        const element = document.querySelector('#df-4a7dc8e8-ac21-4054-b4dc-94952db886dc');\n",
              "        const dataTable =\n",
              "          await google.colab.kernel.invokeFunction('convertToInteractive',\n",
              "                                                    [key], {});\n",
              "        if (!dataTable) return;\n",
              "\n",
              "        const docLinkHtml = 'Like what you see? Visit the ' +\n",
              "          '<a target=\"_blank\" href=https://colab.research.google.com/notebooks/data_table.ipynb>data table notebook</a>'\n",
              "          + ' to learn more about interactive tables.';\n",
              "        element.innerHTML = '';\n",
              "        dataTable['output_type'] = 'display_data';\n",
              "        await google.colab.output.renderOutput(dataTable, element);\n",
              "        const docLink = document.createElement('div');\n",
              "        docLink.innerHTML = docLinkHtml;\n",
              "        element.appendChild(docLink);\n",
              "      }\n",
              "    </script>\n",
              "  </div>\n",
              "\n",
              "\n",
              "  <div id=\"id_9a945435-95bb-411d-b310-afe81dae96ad\">\n",
              "    <style>\n",
              "      .colab-df-generate {\n",
              "        background-color: #E8F0FE;\n",
              "        border: none;\n",
              "        border-radius: 50%;\n",
              "        cursor: pointer;\n",
              "        display: none;\n",
              "        fill: #1967D2;\n",
              "        height: 32px;\n",
              "        padding: 0 0 0 0;\n",
              "        width: 32px;\n",
              "      }\n",
              "\n",
              "      .colab-df-generate:hover {\n",
              "        background-color: #E2EBFA;\n",
              "        box-shadow: 0px 1px 2px rgba(60, 64, 67, 0.3), 0px 1px 3px 1px rgba(60, 64, 67, 0.15);\n",
              "        fill: #174EA6;\n",
              "      }\n",
              "\n",
              "      [theme=dark] .colab-df-generate {\n",
              "        background-color: #3B4455;\n",
              "        fill: #D2E3FC;\n",
              "      }\n",
              "\n",
              "      [theme=dark] .colab-df-generate:hover {\n",
              "        background-color: #434B5C;\n",
              "        box-shadow: 0px 1px 3px 1px rgba(0, 0, 0, 0.15);\n",
              "        filter: drop-shadow(0px 1px 2px rgba(0, 0, 0, 0.3));\n",
              "        fill: #FFFFFF;\n",
              "      }\n",
              "    </style>\n",
              "    <button class=\"colab-df-generate\" onclick=\"generateWithVariable('df')\"\n",
              "            title=\"Generate code using this dataframe.\"\n",
              "            style=\"display:none;\">\n",
              "\n",
              "  <svg xmlns=\"http://www.w3.org/2000/svg\" height=\"24px\"viewBox=\"0 0 24 24\"\n",
              "       width=\"24px\">\n",
              "    <path d=\"M7,19H8.4L18.45,9,17,7.55,7,17.6ZM5,21V16.75L18.45,3.32a2,2,0,0,1,2.83,0l1.4,1.43a1.91,1.91,0,0,1,.58,1.4,1.91,1.91,0,0,1-.58,1.4L9.25,21ZM18.45,9,17,7.55Zm-12,3A5.31,5.31,0,0,0,4.9,8.1,5.31,5.31,0,0,0,1,6.5,5.31,5.31,0,0,0,4.9,4.9,5.31,5.31,0,0,0,6.5,1,5.31,5.31,0,0,0,8.1,4.9,5.31,5.31,0,0,0,12,6.5,5.46,5.46,0,0,0,6.5,12Z\"/>\n",
              "  </svg>\n",
              "    </button>\n",
              "    <script>\n",
              "      (() => {\n",
              "      const buttonEl =\n",
              "        document.querySelector('#id_9a945435-95bb-411d-b310-afe81dae96ad button.colab-df-generate');\n",
              "      buttonEl.style.display =\n",
              "        google.colab.kernel.accessAllowed ? 'block' : 'none';\n",
              "\n",
              "      buttonEl.onclick = () => {\n",
              "        google.colab.notebook.generateWithVariable('df');\n",
              "      }\n",
              "      })();\n",
              "    </script>\n",
              "  </div>\n",
              "\n",
              "    </div>\n",
              "  </div>\n"
            ],
            "application/vnd.google.colaboratory.intrinsic+json": {
              "type": "dataframe",
              "variable_name": "df",
              "repr_error": "Out of range float values are not JSON compliant: nan"
            }
          },
          "metadata": {}
        }
      ]
    },
    {
      "cell_type": "markdown",
      "source": [
        "##### Load Sample (Optional)\n",
        "If you just want to test this script and don't want to curate a list of languages yourself please use this feature to load a sample dataset."
      ],
      "metadata": {
        "id": "LrZ6Ivjrjbau"
      }
    },
    {
      "cell_type": "code",
      "source": [
        "import json\n",
        "import pandas as pd\n",
        "from google.colab import files\n",
        "\n",
        "raw_config = '{\"Kaggle Dataset Name\":{\"0\":\"devicharith\\/language-translation-englishfrench\",\"1\":\"lonnieqin\\/englishspanish-translation-dataset\"},\"Language Name\":{\"0\":\"French\",\"1\":\"Spanish\"},\"English Column Name\":{\"0\":\"English words\\/sentences\",\"1\":\"english\"},\"Other Language Column Name\":{\"0\":\"French words\\/sentences\",\"1\":\"spanish\"}}'\n",
        "df = pd.DataFrame(json.loads(raw_config))\n",
        "df.to_json(\"translite_datasets.json\", index=False)\n",
        "files.download(\"translite_datasets.json\")"
      ],
      "metadata": {
        "id": "NSO5OkZfkzeC",
        "colab": {
          "base_uri": "https://localhost:8080/",
          "height": 17
        },
        "outputId": "4c6e14de-da08-4980-84ab-5c2d74a9d66a"
      },
      "execution_count": 3,
      "outputs": [
        {
          "output_type": "display_data",
          "data": {
            "text/plain": [
              "<IPython.core.display.Javascript object>"
            ],
            "application/javascript": [
              "\n",
              "    async function download(id, filename, size) {\n",
              "      if (!google.colab.kernel.accessAllowed) {\n",
              "        return;\n",
              "      }\n",
              "      const div = document.createElement('div');\n",
              "      const label = document.createElement('label');\n",
              "      label.textContent = `Downloading \"${filename}\": `;\n",
              "      div.appendChild(label);\n",
              "      const progress = document.createElement('progress');\n",
              "      progress.max = size;\n",
              "      div.appendChild(progress);\n",
              "      document.body.appendChild(div);\n",
              "\n",
              "      const buffers = [];\n",
              "      let downloaded = 0;\n",
              "\n",
              "      const channel = await google.colab.kernel.comms.open(id);\n",
              "      // Send a message to notify the kernel that we're ready.\n",
              "      channel.send({})\n",
              "\n",
              "      for await (const message of channel.messages) {\n",
              "        // Send a message to notify the kernel that we're ready.\n",
              "        channel.send({})\n",
              "        if (message.buffers) {\n",
              "          for (const buffer of message.buffers) {\n",
              "            buffers.push(buffer);\n",
              "            downloaded += buffer.byteLength;\n",
              "            progress.value = downloaded;\n",
              "          }\n",
              "        }\n",
              "      }\n",
              "      const blob = new Blob(buffers, {type: 'application/binary'});\n",
              "      const a = document.createElement('a');\n",
              "      a.href = window.URL.createObjectURL(blob);\n",
              "      a.download = filename;\n",
              "      div.appendChild(a);\n",
              "      a.click();\n",
              "      div.remove();\n",
              "    }\n",
              "  "
            ]
          },
          "metadata": {}
        },
        {
          "output_type": "display_data",
          "data": {
            "text/plain": [
              "<IPython.core.display.Javascript object>"
            ],
            "application/javascript": [
              "download(\"download_e74b1705-7748-45a8-b270-d2fffd3a6400\", \"translite_datasets.json\", 320)"
            ]
          },
          "metadata": {}
        }
      ]
    },
    {
      "cell_type": "markdown",
      "source": [
        "#### 1.3 - Connect to Kaggle API\n",
        "Datasets for this product will need to be provided from Kaggle, this means that if you need to utilize cutom language translation datasets you must first host them on https://kaggle.com. You need to get a Kaggle API Key as well. To get this go to your account settings page on Kaggle, and click \"Create New API Token\". This will create a file called `kaggle.json` that you will upload here.\n",
        "\n"
      ],
      "metadata": {
        "id": "g8Mtfy7mgrKq"
      }
    },
    {
      "cell_type": "code",
      "source": [
        "from google.colab import files\n",
        "files.upload()\n",
        "!mkdir -p ~/.config/kaggle\n",
        "!cp kaggle.json ~/.config/kaggle/\n",
        "!chmod 600 ~/.config/kaggle/kaggle.json\n",
        "\n",
        "from kaggle.api.kaggle_api_extended import KaggleApi\n",
        "api = KaggleApi()\n",
        "api.authenticate()"
      ],
      "metadata": {
        "id": "NkBvfxPPhaPL",
        "colab": {
          "base_uri": "https://localhost:8080/",
          "height": 73
        },
        "outputId": "38dc63b1-2726-4de0-febe-cd4b7c31a4a7"
      },
      "execution_count": 4,
      "outputs": [
        {
          "output_type": "display_data",
          "data": {
            "text/plain": [
              "<IPython.core.display.HTML object>"
            ],
            "text/html": [
              "\n",
              "     <input type=\"file\" id=\"files-b2c58064-ee19-4633-84b2-361a309544da\" name=\"files[]\" multiple disabled\n",
              "        style=\"border:none\" />\n",
              "     <output id=\"result-b2c58064-ee19-4633-84b2-361a309544da\">\n",
              "      Upload widget is only available when the cell has been executed in the\n",
              "      current browser session. Please rerun this cell to enable.\n",
              "      </output>\n",
              "      <script>// Copyright 2017 Google LLC\n",
              "//\n",
              "// Licensed under the Apache License, Version 2.0 (the \"License\");\n",
              "// you may not use this file except in compliance with the License.\n",
              "// You may obtain a copy of the License at\n",
              "//\n",
              "//      http://www.apache.org/licenses/LICENSE-2.0\n",
              "//\n",
              "// Unless required by applicable law or agreed to in writing, software\n",
              "// distributed under the License is distributed on an \"AS IS\" BASIS,\n",
              "// WITHOUT WARRANTIES OR CONDITIONS OF ANY KIND, either express or implied.\n",
              "// See the License for the specific language governing permissions and\n",
              "// limitations under the License.\n",
              "\n",
              "/**\n",
              " * @fileoverview Helpers for google.colab Python module.\n",
              " */\n",
              "(function(scope) {\n",
              "function span(text, styleAttributes = {}) {\n",
              "  const element = document.createElement('span');\n",
              "  element.textContent = text;\n",
              "  for (const key of Object.keys(styleAttributes)) {\n",
              "    element.style[key] = styleAttributes[key];\n",
              "  }\n",
              "  return element;\n",
              "}\n",
              "\n",
              "// Max number of bytes which will be uploaded at a time.\n",
              "const MAX_PAYLOAD_SIZE = 100 * 1024;\n",
              "\n",
              "function _uploadFiles(inputId, outputId) {\n",
              "  const steps = uploadFilesStep(inputId, outputId);\n",
              "  const outputElement = document.getElementById(outputId);\n",
              "  // Cache steps on the outputElement to make it available for the next call\n",
              "  // to uploadFilesContinue from Python.\n",
              "  outputElement.steps = steps;\n",
              "\n",
              "  return _uploadFilesContinue(outputId);\n",
              "}\n",
              "\n",
              "// This is roughly an async generator (not supported in the browser yet),\n",
              "// where there are multiple asynchronous steps and the Python side is going\n",
              "// to poll for completion of each step.\n",
              "// This uses a Promise to block the python side on completion of each step,\n",
              "// then passes the result of the previous step as the input to the next step.\n",
              "function _uploadFilesContinue(outputId) {\n",
              "  const outputElement = document.getElementById(outputId);\n",
              "  const steps = outputElement.steps;\n",
              "\n",
              "  const next = steps.next(outputElement.lastPromiseValue);\n",
              "  return Promise.resolve(next.value.promise).then((value) => {\n",
              "    // Cache the last promise value to make it available to the next\n",
              "    // step of the generator.\n",
              "    outputElement.lastPromiseValue = value;\n",
              "    return next.value.response;\n",
              "  });\n",
              "}\n",
              "\n",
              "/**\n",
              " * Generator function which is called between each async step of the upload\n",
              " * process.\n",
              " * @param {string} inputId Element ID of the input file picker element.\n",
              " * @param {string} outputId Element ID of the output display.\n",
              " * @return {!Iterable<!Object>} Iterable of next steps.\n",
              " */\n",
              "function* uploadFilesStep(inputId, outputId) {\n",
              "  const inputElement = document.getElementById(inputId);\n",
              "  inputElement.disabled = false;\n",
              "\n",
              "  const outputElement = document.getElementById(outputId);\n",
              "  outputElement.innerHTML = '';\n",
              "\n",
              "  const pickedPromise = new Promise((resolve) => {\n",
              "    inputElement.addEventListener('change', (e) => {\n",
              "      resolve(e.target.files);\n",
              "    });\n",
              "  });\n",
              "\n",
              "  const cancel = document.createElement('button');\n",
              "  inputElement.parentElement.appendChild(cancel);\n",
              "  cancel.textContent = 'Cancel upload';\n",
              "  const cancelPromise = new Promise((resolve) => {\n",
              "    cancel.onclick = () => {\n",
              "      resolve(null);\n",
              "    };\n",
              "  });\n",
              "\n",
              "  // Wait for the user to pick the files.\n",
              "  const files = yield {\n",
              "    promise: Promise.race([pickedPromise, cancelPromise]),\n",
              "    response: {\n",
              "      action: 'starting',\n",
              "    }\n",
              "  };\n",
              "\n",
              "  cancel.remove();\n",
              "\n",
              "  // Disable the input element since further picks are not allowed.\n",
              "  inputElement.disabled = true;\n",
              "\n",
              "  if (!files) {\n",
              "    return {\n",
              "      response: {\n",
              "        action: 'complete',\n",
              "      }\n",
              "    };\n",
              "  }\n",
              "\n",
              "  for (const file of files) {\n",
              "    const li = document.createElement('li');\n",
              "    li.append(span(file.name, {fontWeight: 'bold'}));\n",
              "    li.append(span(\n",
              "        `(${file.type || 'n/a'}) - ${file.size} bytes, ` +\n",
              "        `last modified: ${\n",
              "            file.lastModifiedDate ? file.lastModifiedDate.toLocaleDateString() :\n",
              "                                    'n/a'} - `));\n",
              "    const percent = span('0% done');\n",
              "    li.appendChild(percent);\n",
              "\n",
              "    outputElement.appendChild(li);\n",
              "\n",
              "    const fileDataPromise = new Promise((resolve) => {\n",
              "      const reader = new FileReader();\n",
              "      reader.onload = (e) => {\n",
              "        resolve(e.target.result);\n",
              "      };\n",
              "      reader.readAsArrayBuffer(file);\n",
              "    });\n",
              "    // Wait for the data to be ready.\n",
              "    let fileData = yield {\n",
              "      promise: fileDataPromise,\n",
              "      response: {\n",
              "        action: 'continue',\n",
              "      }\n",
              "    };\n",
              "\n",
              "    // Use a chunked sending to avoid message size limits. See b/62115660.\n",
              "    let position = 0;\n",
              "    do {\n",
              "      const length = Math.min(fileData.byteLength - position, MAX_PAYLOAD_SIZE);\n",
              "      const chunk = new Uint8Array(fileData, position, length);\n",
              "      position += length;\n",
              "\n",
              "      const base64 = btoa(String.fromCharCode.apply(null, chunk));\n",
              "      yield {\n",
              "        response: {\n",
              "          action: 'append',\n",
              "          file: file.name,\n",
              "          data: base64,\n",
              "        },\n",
              "      };\n",
              "\n",
              "      let percentDone = fileData.byteLength === 0 ?\n",
              "          100 :\n",
              "          Math.round((position / fileData.byteLength) * 100);\n",
              "      percent.textContent = `${percentDone}% done`;\n",
              "\n",
              "    } while (position < fileData.byteLength);\n",
              "  }\n",
              "\n",
              "  // All done.\n",
              "  yield {\n",
              "    response: {\n",
              "      action: 'complete',\n",
              "    }\n",
              "  };\n",
              "}\n",
              "\n",
              "scope.google = scope.google || {};\n",
              "scope.google.colab = scope.google.colab || {};\n",
              "scope.google.colab._files = {\n",
              "  _uploadFiles,\n",
              "  _uploadFilesContinue,\n",
              "};\n",
              "})(self);\n",
              "</script> "
            ]
          },
          "metadata": {}
        },
        {
          "output_type": "stream",
          "name": "stdout",
          "text": [
            "Saving kaggle.json to kaggle.json\n"
          ]
        }
      ]
    },
    {
      "cell_type": "markdown",
      "source": [
        "#### 1.4 - Load Datasets from Config\n",
        "This is where you'll test out your config and ensure that you can properly load datasets from it."
      ],
      "metadata": {
        "id": "8E7LahNJfoWY"
      }
    },
    {
      "cell_type": "code",
      "source": [
        "import os\n",
        "import pandas as pd\n",
        "\n",
        "from collections.abc import Callable as function\n",
        "\n",
        "allowed_types: dict[str, function] = {\n",
        "    'csv': pd.read_csv,\n",
        "    'json': pd.read_json,\n",
        "    'xlsx': pd.read_excel,\n",
        "    'parquet': pd.read_parquet\n",
        "}\n",
        "\n",
        "id_counter: int = 0\n",
        "dfs = []\n",
        "classes: dict[int, str] = {}\n",
        "\n",
        "for _, dataset in df.iterrows():\n",
        "    print(f\"Loading {dataset['Language Name']}\")\n",
        "    dataset_name: str = dataset[\"Kaggle Dataset Name\"]\n",
        "    language_name: str = dataset[\"Language Name\"]\n",
        "\n",
        "    # Get and prep datasets from kaggle\n",
        "    !kaggle datasets download {dataset_name} -d {language_name}\n",
        "    !unzip {dataset_name.split('/')[-1]}.zip -d {language_name}\n",
        "\n",
        "    files: list[tuple[str, function]] = [(f, allowed_types.get(f.split('.')[-1]))\n",
        "    for f in os.listdir(language_name)]\n",
        "\n",
        "    curr = pd.DataFrame(columns=[\n",
        "        \"class\", \"english\", \"native\"\n",
        "    ])\n",
        "\n",
        "    # Look for all files in the dir that are readable as datasets and\n",
        "    # reformat them\n",
        "\n",
        "\n",
        "    for f, fn in files:\n",
        "      if fn:\n",
        "        tmp = fn(f\"{language_name}/{f}\")\n",
        "        tmp = tmp.rename(columns={\n",
        "            dataset[\"English Column Name\"]: \"english\",\n",
        "            dataset[\"Other Language Column Name\"]: \"native\"\n",
        "        })\n",
        "        tmp[\"class\"] = language_name\n",
        "        tmp[\"class_int\"] = id_counter\n",
        "        classes[f\"{id_counter}\"] = language_name\n",
        "        curr = pd.concat([curr, tmp], ignore_index=True)\n",
        "    id_counter += 1\n",
        "\n",
        "    dfs.append(curr)\n",
        "\n",
        "combined = pd.concat(dfs, ignore_index=True)\n",
        "combined.to_csv(\"translite.csv\", index=False)"
      ],
      "metadata": {
        "colab": {
          "base_uri": "https://localhost:8080/"
        },
        "id": "XQEjDmOZgWyJ",
        "outputId": "ed64c73c-1664-4764-cb50-b5a6845163f5"
      },
      "execution_count": 5,
      "outputs": [
        {
          "output_type": "stream",
          "name": "stdout",
          "text": [
            "Loading French\n",
            "Dataset URL: https://www.kaggle.com/datasets/devicharith/language-translation-englishfrench\n",
            "License(s): CC0-1.0\n",
            "Archive:  language-translation-englishfrench.zip\n",
            "  inflating: French/eng_-french.csv  \n",
            "Loading Spanish\n",
            "Dataset URL: https://www.kaggle.com/datasets/lonnieqin/englishspanish-translation-dataset\n",
            "License(s): unknown\n",
            "Archive:  englishspanish-translation-dataset.zip\n",
            "  inflating: Spanish/data.csv        \n"
          ]
        }
      ]
    },
    {
      "cell_type": "markdown",
      "source": [
        "#### 1.5 - Prepare Datasets for Classification\n",
        "This is where datasets will be prepared for classification model training."
      ],
      "metadata": {
        "id": "jUsXazwcPgxx"
      }
    },
    {
      "cell_type": "markdown",
      "source": [
        "##### 1.5.1 - Prepare Train Test Splits"
      ],
      "metadata": {
        "id": "GfrxRdhlgByz"
      }
    },
    {
      "cell_type": "code",
      "source": [
        "TRAIN_SIZE = 0.85\n",
        "\n",
        "print(\"Filling embedding reference map...\")\n",
        "combined = combined.sample(frac=1)\n",
        "train_in = combined['native'][:int(len(combined) * TRAIN_SIZE)].tolist()\n",
        "train_out = combined['class_int'][:int(len(combined) * TRAIN_SIZE)].tolist()\n",
        "test_in = combined['native'][int(len(combined) * TRAIN_SIZE):].tolist()\n",
        "test_out = combined['class_int'][int(len(combined) * TRAIN_SIZE):].tolist()"
      ],
      "metadata": {
        "id": "SbjQVfgyfZMe",
        "colab": {
          "base_uri": "https://localhost:8080/"
        },
        "outputId": "25d42ead-f952-48f0-f481-f2a6ada99a0f"
      },
      "execution_count": 6,
      "outputs": [
        {
          "output_type": "stream",
          "name": "stdout",
          "text": [
            "Filling embedding reference map...\n"
          ]
        }
      ]
    },
    {
      "cell_type": "markdown",
      "source": [
        "## Section 2 - Models\n"
      ],
      "metadata": {
        "id": "gnWXBZ_lgLYk"
      }
    },
    {
      "cell_type": "markdown",
      "source": [
        "#### 2.1 - Classifier Training"
      ],
      "metadata": {
        "id": "GowvtxhOg1gN"
      }
    },
    {
      "cell_type": "markdown",
      "source": [
        "##### 2.1.1 - Training"
      ],
      "metadata": {
        "id": "R4ZPyO0khiG3"
      }
    },
    {
      "cell_type": "code",
      "source": [
        "# https://developer.ibm.com/tutorials/awb-classifying-data-multinomial-naive-bayes-algorithm/\n",
        "from sklearn.feature_extraction.text import TfidfVectorizer\n",
        "from sklearn.pipeline import Pipeline\n",
        "from sklearn.naive_bayes import MultinomialNB\n",
        "\n",
        "model = Pipeline([\n",
        "    ('embeddings', TfidfVectorizer(analyzer='char', ngram_range=(1, 3))),\n",
        "    ('classifier', MultinomialNB(\n",
        "        alpha=0.1))\n",
        "])\n",
        "\n",
        "model.fit(train_in, train_out)\n",
        "classifier_model = model\n"
      ],
      "metadata": {
        "id": "dP_vV1uThIu3"
      },
      "execution_count": 7,
      "outputs": []
    },
    {
      "cell_type": "markdown",
      "source": [
        "##### 2.1.2 - Validation"
      ],
      "metadata": {
        "id": "BvDQYYMZheda"
      }
    },
    {
      "cell_type": "code",
      "source": [
        "predictions = model.predict(test_in)\n",
        "acc = sum(predictions == test_out) / len(test_out)\n",
        "print(f\"Accuracy: {acc}\")"
      ],
      "metadata": {
        "colab": {
          "base_uri": "https://localhost:8080/"
        },
        "id": "0Bee8pTlhuRW",
        "outputId": "808f9342-2fc2-445f-f709-d7378930f6ab"
      },
      "execution_count": 8,
      "outputs": [
        {
          "output_type": "stream",
          "name": "stdout",
          "text": [
            "Accuracy: 0.9983705983524939\n"
          ]
        }
      ]
    },
    {
      "cell_type": "markdown",
      "source": [
        "##### 2.1.3 - Manual Test"
      ],
      "metadata": {
        "id": "bHjIkFDv7CQ-"
      }
    },
    {
      "cell_type": "code",
      "source": [
        "print(classes[f\"{int(model.predict([input('>>> ')]).item())}\"])"
      ],
      "metadata": {
        "colab": {
          "base_uri": "https://localhost:8080/"
        },
        "id": "lT-FnIsq7GGO",
        "outputId": "133d6a62-e8ff-4ea6-a9d6-ff4ef1e06102"
      },
      "execution_count": 9,
      "outputs": [
        {
          "output_type": "stream",
          "name": "stdout",
          "text": [
            ">>> je ne sais pas\n",
            "French\n"
          ]
        }
      ]
    },
    {
      "cell_type": "markdown",
      "source": [
        "#### 2.2 - Translator Training"
      ],
      "metadata": {
        "id": "Z1QrAnSz6Oou"
      }
    },
    {
      "cell_type": "markdown",
      "source": [
        "##### 2.2.1 - Import Requirements"
      ],
      "metadata": {
        "id": "BxFCBSkO-N21"
      }
    },
    {
      "cell_type": "code",
      "source": [
        "from __future__ import unicode_literals, print_function, division\n",
        "from io import open\n",
        "from pandas import DataFrame\n",
        "from typing import Union\n",
        "import unicodedata\n",
        "import re\n",
        "import random\n",
        "import time\n",
        "\n",
        "import torch\n",
        "import torch.nn as nn\n",
        "from torch import optim\n",
        "import torch.nn.functional as F\n",
        "\n",
        "import numpy as np\n",
        "from torch.utils.data import TensorDataset, DataLoader, RandomSampler\n",
        "\n",
        "device = torch.device(\"cuda\" if torch.cuda.is_available() else \"cpu\")"
      ],
      "metadata": {
        "id": "z6e7nUr7-VDt"
      },
      "execution_count": 10,
      "outputs": []
    },
    {
      "cell_type": "markdown",
      "source": [
        "##### 2.2.1 - DataLoader\n",
        "This is how we will convert our datasets into a usable format for translation."
      ],
      "metadata": {
        "id": "1zO69WAR6V-B"
      }
    },
    {
      "cell_type": "markdown",
      "source": [
        "##### 2.2.2.1 - Config"
      ],
      "metadata": {
        "id": "PEGoVweKLHyd"
      }
    },
    {
      "cell_type": "code",
      "source": [
        "SOS_token = 0\n",
        "EOS_token = 1\n",
        "MAX_LENGTH = 10"
      ],
      "metadata": {
        "id": "HtGBER5NLK-m"
      },
      "execution_count": 11,
      "outputs": []
    },
    {
      "cell_type": "markdown",
      "source": [
        "###### 2.2.2.1 - Embeddings"
      ],
      "metadata": {
        "id": "O9dcKXvp-cb5"
      }
    },
    {
      "cell_type": "code",
      "source": [
        "class Lang:\n",
        "    def __init__(self, name: str):\n",
        "        self.name = name\n",
        "        self.word2index = {}\n",
        "        self.word2count = {}\n",
        "        self.index2word = {0: \"SOS\", 1: \"EOS\"}\n",
        "        self.n_words = 2\n",
        "\n",
        "    def addSentence(self, sentence: str):\n",
        "        for word in sentence.split(' '):\n",
        "            self.addWord(word)\n",
        "\n",
        "    def addWord(self, word: str):\n",
        "        if word not in self.word2index:\n",
        "            self.word2index[word] = self.n_words\n",
        "            self.word2count[word] = 1\n",
        "            self.index2word[self.n_words] = word\n",
        "            self.n_words += 1\n",
        "        else:\n",
        "            self.word2count[word] += 1\n",
        "\n",
        "def cleanStr(s, lang: Lang=None): # No crash on my watch\n",
        "  s = ''.join(\n",
        "      c for c in unicodedata.normalize('NFD', s.lower().strip())\n",
        "      if unicodedata.category(c) != 'Mn'\n",
        "  )\n",
        "  s = re.sub(r\"([.!?])\", r\" \\1\", s)\n",
        "  s = re.sub(r\"[^a-zA-Z!?]+\", r\" \", s)\n",
        "\n",
        "  if lang:\n",
        "    s = s.split()\n",
        "\n",
        "    for word in s:\n",
        "      if word not in lang.word2index:\n",
        "        word = \"\"\n",
        "\n",
        "    s = ' '.join(s)\n",
        "\n",
        "  return s.strip()\n",
        "\n",
        "def filterPair(p):\n",
        "    return len(p[0].split(' ')) < MAX_LENGTH and \\\n",
        "        len(p[1].split(' ')) < MAX_LENGTH\n",
        "\n",
        "def loadLangs(lang: str, df: DataFrame) -> Union[lang, lang, list]:\n",
        "    pairs = [[cleanStr(row[\"native\"]), cleanStr(row[\"english\"])] for _, row in df.iterrows() if row[\"class\"] == lang]\n",
        "    pairs = list(filter(filterPair, pairs))\n",
        "    input_lang, output_lang = Lang(lang), Lang('English')\n",
        "\n",
        "    for pair in pairs:\n",
        "        input_lang.addSentence(pair[0])\n",
        "        output_lang.addSentence(pair[1])\n",
        "\n",
        "    return input_lang, output_lang, pairs"
      ],
      "metadata": {
        "id": "JIlICK0X6k9J"
      },
      "execution_count": 12,
      "outputs": []
    },
    {
      "cell_type": "markdown",
      "source": [
        "###### 2.2.2.2 - DataLoader Defintion"
      ],
      "metadata": {
        "id": "3a3tKV2pJUBY"
      }
    },
    {
      "cell_type": "code",
      "source": [
        "def indexesFromSentence(lang, sentence):\n",
        "  return [lang.word2index[word] for word in sentence.split(' ')]\n",
        "\n",
        "def tensorFromSentence(lang, sentence):\n",
        "  indexes = indexesFromSentence(lang, sentence)\n",
        "  indexes.append(EOS_token)\n",
        "  return torch.tensor(indexes, dtype=torch.long, device=device).view(1, -1)\n",
        "\n",
        "def tensorsFromPair(pair):\n",
        "  input_tensor = tensorFromSentence(input_lang, pair[0])\n",
        "  target_tensor = tensorFromSentence(output_lang, pair[1])\n",
        "  return (input_tensor, target_tensor)\n",
        "\n",
        "def get_dataloader(lang, batch_size):\n",
        "  input_lang, output_lang, pairs = loadLangs(lang, combined)\n",
        "\n",
        "  n = len(pairs)\n",
        "  input_ids = np.zeros((n, MAX_LENGTH), dtype=np.int32)\n",
        "  target_ids = np.zeros((n, MAX_LENGTH), dtype=np.int32)\n",
        "\n",
        "  for idx, (inp, tgt) in enumerate(pairs):\n",
        "      inp_ids = indexesFromSentence(input_lang, inp)\n",
        "      tgt_ids = indexesFromSentence(output_lang, tgt)\n",
        "      inp_ids.append(EOS_token)\n",
        "      tgt_ids.append(EOS_token)\n",
        "      input_ids[idx, :len(inp_ids)] = inp_ids\n",
        "      target_ids[idx, :len(tgt_ids)] = tgt_ids\n",
        "\n",
        "  train_data = TensorDataset(torch.LongTensor(input_ids).to(device),\n",
        "                              torch.LongTensor(target_ids).to(device))\n",
        "\n",
        "  train_sampler = RandomSampler(train_data)\n",
        "  train_dataloader = DataLoader(train_data, sampler=train_sampler, batch_size=batch_size)\n",
        "  return input_lang, output_lang, train_dataloader"
      ],
      "metadata": {
        "id": "WDsjZiJvJX-u"
      },
      "execution_count": 13,
      "outputs": []
    },
    {
      "cell_type": "markdown",
      "source": [
        "##### 2.2.2 - Model Definition"
      ],
      "metadata": {
        "id": "sBtFnCTlItqs"
      }
    },
    {
      "cell_type": "code",
      "source": [
        "class Encoder(nn.Module):\n",
        "  def __init__(self, input_size, hidden_size, dropout_p=0.1):\n",
        "      super(Encoder, self).__init__()\n",
        "      self.hidden_size = hidden_size\n",
        "\n",
        "      self.embedding = nn.Embedding(input_size, hidden_size)\n",
        "      self.gru = nn.GRU(hidden_size, hidden_size, batch_first=True)\n",
        "      self.dropout = nn.Dropout(dropout_p)\n",
        "\n",
        "  def forward(self, input):\n",
        "      embedded = self.dropout(self.embedding(input))\n",
        "      output, hidden = self.gru(embedded)\n",
        "      return output, hidden"
      ],
      "metadata": {
        "id": "C8XJCDmqIxDF"
      },
      "execution_count": 14,
      "outputs": []
    },
    {
      "cell_type": "code",
      "source": [
        "class Decoder(nn.Module):\n",
        "  def __init__(self, hidden_size, output_size):\n",
        "      super(Decoder, self).__init__()\n",
        "      self.embedding = nn.Embedding(output_size, hidden_size)\n",
        "      self.gru = nn.GRU(hidden_size, hidden_size, batch_first=True)\n",
        "      self.out = nn.Linear(hidden_size, output_size)\n",
        "\n",
        "  def forward(self, encoder_outputs, encoder_hidden, target_tensor=None):\n",
        "      batch_size = encoder_outputs.size(0)\n",
        "      decoder_input = torch.empty(batch_size, 1, dtype=torch.long, device=device).fill_(SOS_token)\n",
        "      decoder_hidden = encoder_hidden\n",
        "      decoder_outputs = []\n",
        "\n",
        "      for i in range(20):\n",
        "          decoder_output, decoder_hidden  = self.forward_step(decoder_input, decoder_hidden)\n",
        "          decoder_outputs.append(decoder_output)\n",
        "\n",
        "          if target_tensor is not None:\n",
        "              decoder_input = target_tensor[:, i].unsqueeze(1)\n",
        "          else:\n",
        "              _, topi = decoder_output.topk(1)\n",
        "              decoder_input = topi.squeeze(-1).detach()\n",
        "\n",
        "      decoder_outputs = torch.cat(decoder_outputs, dim=1)\n",
        "      decoder_outputs = F.log_softmax(decoder_outputs, dim=-1)\n",
        "      return decoder_outputs, decoder_hidden, None\n",
        "\n",
        "  def forward_step(self, input, hidden):\n",
        "      output = self.embedding(input)\n",
        "      output = F.relu(output)\n",
        "      output, hidden = self.gru(output, hidden)\n",
        "      output = self.out(output)\n",
        "      return output, hidden"
      ],
      "metadata": {
        "id": "YfVlU56sIy7a"
      },
      "execution_count": 15,
      "outputs": []
    },
    {
      "cell_type": "code",
      "source": [
        "class BahdanauAttention(nn.Module):\n",
        "  def __init__(self, hidden_size):\n",
        "      super(BahdanauAttention, self).__init__()\n",
        "      self.Wa = nn.Linear(hidden_size, hidden_size)\n",
        "      self.Ua = nn.Linear(hidden_size, hidden_size)\n",
        "      self.Va = nn.Linear(hidden_size, 1)\n",
        "\n",
        "  def forward(self, query, keys):\n",
        "      scores = self.Va(torch.tanh(self.Wa(query) + self.Ua(keys)))\n",
        "      scores = scores.squeeze(2).unsqueeze(1)\n",
        "\n",
        "      weights = F.softmax(scores, dim=-1)\n",
        "      context = torch.bmm(weights, keys)\n",
        "\n",
        "      return context, weights"
      ],
      "metadata": {
        "id": "G0I-8GMKI9wX"
      },
      "execution_count": 16,
      "outputs": []
    },
    {
      "cell_type": "code",
      "source": [
        "class AttentionDecoder(nn.Module):\n",
        "  def __init__(self, hidden_size, output_size, dropout_p=0.1):\n",
        "      super(AttentionDecoder, self).__init__()\n",
        "      self.embedding = nn.Embedding(output_size, hidden_size)\n",
        "      self.attention = BahdanauAttention(hidden_size)\n",
        "      self.gru = nn.GRU(2 * hidden_size, hidden_size, batch_first=True)\n",
        "      self.out = nn.Linear(hidden_size, output_size)\n",
        "      self.dropout = nn.Dropout(dropout_p)\n",
        "\n",
        "  def forward(self, encoder_outputs, encoder_hidden, target_tensor=None):\n",
        "      batch_size = encoder_outputs.size(0)\n",
        "      decoder_input = torch.empty(batch_size, 1, dtype=torch.long, device=device).fill_(SOS_token)\n",
        "      decoder_hidden = encoder_hidden\n",
        "      decoder_outputs = []\n",
        "      attentions = []\n",
        "\n",
        "      for i in range(MAX_LENGTH):\n",
        "          decoder_output, decoder_hidden, attn_weights = self.forward_step(\n",
        "              decoder_input, decoder_hidden, encoder_outputs\n",
        "          )\n",
        "          decoder_outputs.append(decoder_output)\n",
        "          attentions.append(attn_weights)\n",
        "\n",
        "          if target_tensor is not None:\n",
        "              decoder_input = target_tensor[:, i].unsqueeze(1)\n",
        "          else:\n",
        "              _, topi = decoder_output.topk(1)\n",
        "              decoder_input = topi.squeeze(-1).detach()\n",
        "\n",
        "      decoder_outputs = torch.cat(decoder_outputs, dim=1)\n",
        "      decoder_outputs = F.log_softmax(decoder_outputs, dim=-1)\n",
        "      attentions = torch.cat(attentions, dim=1)\n",
        "\n",
        "      return decoder_outputs, decoder_hidden, attentions\n",
        "\n",
        "\n",
        "  def forward_step(self, input, hidden, encoder_outputs):\n",
        "      embedded =  self.dropout(self.embedding(input))\n",
        "\n",
        "      query = hidden.permute(1, 0, 2)\n",
        "      context, attn_weights = self.attention(query, encoder_outputs)\n",
        "      input_gru = torch.cat((embedded, context), dim=2)\n",
        "\n",
        "      output, hidden = self.gru(input_gru, hidden)\n",
        "      output = self.out(output)\n",
        "\n",
        "      return output, hidden, attn_weights"
      ],
      "metadata": {
        "id": "XCYhLM-LJCJZ"
      },
      "execution_count": 17,
      "outputs": []
    },
    {
      "cell_type": "markdown",
      "source": [
        "##### 2.2.3 - Training"
      ],
      "metadata": {
        "id": "6Q6Eo7_OJ9nn"
      }
    },
    {
      "cell_type": "markdown",
      "source": [
        "###### 2.2.3.1 - Per Model Training\n",
        "This is the script that each model will need to run to train for each language."
      ],
      "metadata": {
        "id": "9V8ajE0jSuQy"
      }
    },
    {
      "cell_type": "code",
      "source": [
        "def train_epoch(\n",
        "    dataloader,\n",
        "    encoder,\n",
        "    decoder,\n",
        "    encoder_optimizer,\n",
        "    decoder_optimizer,\n",
        "    criterion):\n",
        "\n",
        "  total_loss = 0\n",
        "  for data in dataloader:\n",
        "      input_tensor, target_tensor = data\n",
        "\n",
        "      encoder_optimizer.zero_grad()\n",
        "      decoder_optimizer.zero_grad()\n",
        "\n",
        "      encoder_outputs, encoder_hidden = encoder(input_tensor)\n",
        "      decoder_outputs, _, _ = decoder(encoder_outputs, encoder_hidden, target_tensor)\n",
        "\n",
        "      loss = criterion(\n",
        "          decoder_outputs.view(-1, decoder_outputs.size(-1)),\n",
        "          target_tensor.view(-1)\n",
        "      )\n",
        "      loss.backward()\n",
        "\n",
        "      encoder_optimizer.step()\n",
        "      decoder_optimizer.step()\n",
        "\n",
        "      total_loss += loss.item()\n",
        "\n",
        "  return total_loss / len(dataloader)\n",
        "\n",
        "def train(train_dataloader,\n",
        "          encoder,\n",
        "          decoder,\n",
        "          n_epochs,\n",
        "          learning_rate=0.001,\n",
        "          print_every=100):\n",
        "  start = time.time()\n",
        "  plot_losses = []\n",
        "  print_loss_total = 0\n",
        "  plot_loss_total = 0\n",
        "\n",
        "  encoder_optimizer = optim.Adam(encoder.parameters(), lr=learning_rate)\n",
        "  decoder_optimizer = optim.Adam(decoder.parameters(), lr=learning_rate)\n",
        "  criterion = nn.NLLLoss()\n",
        "\n",
        "  for epoch in range(1, n_epochs + 1):\n",
        "      loss = train_epoch(train_dataloader, encoder, decoder, encoder_optimizer, decoder_optimizer, criterion)\n",
        "      print_loss_total += loss\n",
        "      plot_loss_total += loss\n",
        "\n",
        "      if epoch % print_every == 0:\n",
        "          print_loss_avg = print_loss_total / print_every\n",
        "          print_loss_total = 0\n",
        "          print(f\"Epoch: {epoch}, Progress: {epoch / n_epochs * 100:.2f}, Loss: {print_loss_avg}\")"
      ],
      "metadata": {
        "id": "BMxnPMBWJ_t9"
      },
      "execution_count": 18,
      "outputs": []
    },
    {
      "cell_type": "markdown",
      "source": [
        "###### 2.2.4.2 - Train All"
      ],
      "metadata": {
        "id": "zCxOD3D_TF1W"
      }
    },
    {
      "cell_type": "code",
      "source": [
        "models = {}\n",
        "hidden_size = 128\n",
        "batch_size = 4096 # A100 - 40G\n",
        "\n",
        "for lang in classes.values():\n",
        "  print(f\"Training {lang}...\")\n",
        "  input_lang, output_lang, train_dataloader = get_dataloader(lang, batch_size)\n",
        "  encoder = Encoder(input_lang.n_words, hidden_size).to(device)\n",
        "  decoder = AttentionDecoder(hidden_size, output_lang.n_words).to(device)\n",
        "  train(train_dataloader, encoder, decoder, 80, print_every=10)\n",
        "  models[lang] = (input_lang, output_lang, encoder, decoder)"
      ],
      "metadata": {
        "colab": {
          "base_uri": "https://localhost:8080/"
        },
        "id": "jvPXBf66TKN0",
        "outputId": "dd6b9dd0-f041-43e2-c82e-fcea8df0f236"
      },
      "execution_count": 20,
      "outputs": [
        {
          "output_type": "stream",
          "name": "stdout",
          "text": [
            "Training French...\n",
            "Epoch: 10, Progress: 12.50, Loss: 3.417725846346687\n",
            "Epoch: 20, Progress: 25.00, Loss: 2.058082409466014\n",
            "Epoch: 30, Progress: 37.50, Loss: 1.4055474211187922\n",
            "Epoch: 40, Progress: 50.00, Loss: 1.037968441668679\n",
            "Epoch: 50, Progress: 62.50, Loss: 0.8254792032872927\n",
            "Epoch: 60, Progress: 75.00, Loss: 0.6900376367218353\n",
            "Epoch: 70, Progress: 87.50, Loss: 0.5963052206179675\n",
            "Epoch: 80, Progress: 100.00, Loss: 0.5276131424833747\n",
            "Training Spanish...\n",
            "Epoch: 10, Progress: 12.50, Loss: 3.832967051506042\n",
            "Epoch: 20, Progress: 25.00, Loss: 2.6776475725173947\n",
            "Epoch: 30, Progress: 37.50, Loss: 2.0272846779823306\n",
            "Epoch: 40, Progress: 50.00, Loss: 1.5271002430915832\n",
            "Epoch: 50, Progress: 62.50, Loss: 1.1956762280464173\n",
            "Epoch: 60, Progress: 75.00, Loss: 0.9799036798477173\n",
            "Epoch: 70, Progress: 87.50, Loss: 0.8303933930397033\n",
            "Epoch: 80, Progress: 100.00, Loss: 0.7212131414413453\n"
          ]
        }
      ]
    },
    {
      "cell_type": "markdown",
      "source": [
        "##### 2.2.5 - Evaluate"
      ],
      "metadata": {
        "id": "zWXkW6u2KL_q"
      }
    },
    {
      "cell_type": "code",
      "source": [
        "def predict(input, encoder, decoder):\n",
        "  with torch.no_grad():\n",
        "      input_tensor = tensorFromSentence(input_lang, input)\n",
        "\n",
        "      encoder_outputs, encoder_hidden = encoder(input_tensor)\n",
        "      decoder_outputs, decoder_hidden, decoder_attn = decoder(encoder_outputs, encoder_hidden)\n",
        "\n",
        "      _, topi = decoder_outputs.topk(1)\n",
        "      decoded_ids = topi.squeeze()\n",
        "\n",
        "      decoded_words = []\n",
        "      for idx in decoded_ids:\n",
        "          if idx.item() == EOS_token:\n",
        "              decoded_words.append('<EOS>')\n",
        "              break\n",
        "          decoded_words.append(output_lang.index2word[idx.item()])\n",
        "      output_sentence = ' '.join(decoded_words)\n",
        "      print('Translated: ', output_sentence)"
      ],
      "metadata": {
        "id": "lVW2uTvZKOjt"
      },
      "execution_count": 21,
      "outputs": []
    },
    {
      "cell_type": "code",
      "source": [
        "encoder.eval()\n",
        "decoder.eval()\n",
        "input_sentence = cleanStr(input('>>> '), lang=input_lang)\n",
        "predict(input_sentence, encoder, decoder)"
      ],
      "metadata": {
        "colab": {
          "base_uri": "https://localhost:8080/"
        },
        "id": "Rns4-JiCKW8a",
        "outputId": "8f13ee59-d9d9-4c4f-9ff4-ebf9414ab097"
      },
      "execution_count": 22,
      "outputs": [
        {
          "output_type": "stream",
          "name": "stdout",
          "text": [
            ">>> ¿Está bien tu coche?\n",
            "Translated:  is your car ok ? <EOS>\n"
          ]
        }
      ]
    },
    {
      "cell_type": "markdown",
      "source": [
        "##### 2.3 - Export Everything as ZIP\n",
        "This will put all of your trained models and binaries into a usable format to be loaded into your application based on the specs of the pipeline outlined in section 3."
      ],
      "metadata": {
        "id": "x4dTbiQUWtf6"
      }
    },
    {
      "cell_type": "code",
      "source": [
        "from google.colab import files\n",
        "import pickle\n",
        "\n",
        "!rm -rf translite_out\n",
        "!mkdir translite_out\n",
        "\n",
        "config = {\n",
        "    \"max_sent_length\": MAX_LENGTH,\n",
        "    \"hidden_size\": hidden_size,\n",
        "    \"EOS_token\": EOS_token,\n",
        "    \"SOS_token\": SOS_token\n",
        "}\n",
        "\n",
        "for model, (input_lang, output_lang, encoder, decoder) in models.items():\n",
        "  torch.save(encoder.state_dict(), f\"translite_out/{model}_encoder.pt\")\n",
        "  torch.save(decoder.state_dict(), f\"translite_out/{model}_decoder.pt\")\n",
        "\n",
        "  with open(f'translite_out/{model}_class.pkl', 'wb') as f:\n",
        "    pickle.dump(input_lang, f)\n",
        "\n",
        "  with open(f'translite_out/{model}_class_out.pkl', 'wb') as f:\n",
        "    pickle.dump(output_lang, f)\n",
        "\n",
        "with open(f'translite_out/classes.json', 'w') as f:\n",
        "  json.dump(classes, f)\n",
        "\n",
        "with open(f'translite_out/config.json', 'w') as f:\n",
        "  json.dump(config, f)\n",
        "\n",
        "with open(f'translite_out/classifier.pkl', 'wb') as f:\n",
        "  pickle.dump(classifier_model, f)\n",
        "\n",
        "!zip -r translite_out.zip translite_out\n",
        "files.download(\"translite_out.zip\")"
      ],
      "metadata": {
        "colab": {
          "base_uri": "https://localhost:8080/",
          "height": 225
        },
        "id": "H3msGWxIXGUu",
        "outputId": "ea8d4ca4-62e1-42ee-b749-59b01faf353b"
      },
      "execution_count": 25,
      "outputs": [
        {
          "output_type": "stream",
          "name": "stdout",
          "text": [
            "updating: translite_out/ (stored 0%)\n",
            "updating: translite_out/Spanish_class_out.pkl (deflated 50%)\n",
            "updating: translite_out/French_decoder.pt (deflated 7%)\n",
            "updating: translite_out/config.json (deflated 19%)\n",
            "updating: translite_out/Spanish_encoder.pt (deflated 7%)\n",
            "updating: translite_out/classifier.pkl (deflated 41%)\n",
            "updating: translite_out/French_encoder.pt (deflated 7%)\n",
            "updating: translite_out/Spanish_decoder.pt (deflated 7%)\n",
            "updating: translite_out/classes.json (deflated 3%)\n",
            "updating: translite_out/French_class_out.pkl (deflated 50%)\n",
            "updating: translite_out/Spanish_class.pkl (deflated 53%)\n",
            "updating: translite_out/French_class.pkl (deflated 52%)\n"
          ]
        },
        {
          "output_type": "display_data",
          "data": {
            "text/plain": [
              "<IPython.core.display.Javascript object>"
            ],
            "application/javascript": [
              "\n",
              "    async function download(id, filename, size) {\n",
              "      if (!google.colab.kernel.accessAllowed) {\n",
              "        return;\n",
              "      }\n",
              "      const div = document.createElement('div');\n",
              "      const label = document.createElement('label');\n",
              "      label.textContent = `Downloading \"${filename}\": `;\n",
              "      div.appendChild(label);\n",
              "      const progress = document.createElement('progress');\n",
              "      progress.max = size;\n",
              "      div.appendChild(progress);\n",
              "      document.body.appendChild(div);\n",
              "\n",
              "      const buffers = [];\n",
              "      let downloaded = 0;\n",
              "\n",
              "      const channel = await google.colab.kernel.comms.open(id);\n",
              "      // Send a message to notify the kernel that we're ready.\n",
              "      channel.send({})\n",
              "\n",
              "      for await (const message of channel.messages) {\n",
              "        // Send a message to notify the kernel that we're ready.\n",
              "        channel.send({})\n",
              "        if (message.buffers) {\n",
              "          for (const buffer of message.buffers) {\n",
              "            buffers.push(buffer);\n",
              "            downloaded += buffer.byteLength;\n",
              "            progress.value = downloaded;\n",
              "          }\n",
              "        }\n",
              "      }\n",
              "      const blob = new Blob(buffers, {type: 'application/binary'});\n",
              "      const a = document.createElement('a');\n",
              "      a.href = window.URL.createObjectURL(blob);\n",
              "      a.download = filename;\n",
              "      div.appendChild(a);\n",
              "      a.click();\n",
              "      div.remove();\n",
              "    }\n",
              "  "
            ]
          },
          "metadata": {}
        },
        {
          "output_type": "display_data",
          "data": {
            "text/plain": [
              "<IPython.core.display.Javascript object>"
            ],
            "application/javascript": [
              "download(\"download_c866c06f-c67d-41cf-9330-c7f8ba29279d\", \"translite_out.zip\", 44608976)"
            ]
          },
          "metadata": {}
        }
      ]
    },
    {
      "cell_type": "markdown",
      "source": [
        "## Section 3 - Pipeline\n",
        "This is a mockup of what the expected output pipeline will look like in an application where Translite models are used."
      ],
      "metadata": {
        "id": "WpoMaZS6Up5E"
      }
    },
    {
      "cell_type": "code",
      "source": [
        "import os\n",
        "import pickle\n",
        "\n",
        "def load_translite(folder: str = ''):\n",
        "  translation_models = {}\n",
        "\n",
        "  if not os.path.isfile(f\"{folder}/config.json\"):\n",
        "    raise FileNotFoundError(\"config.json not found\")\n",
        "\n",
        "  if not os.path.isfile(f\"{folder}/classes.json\"):\n",
        "    raise FileNotFoundError(\"classes.json not found\")\n",
        "\n",
        "  if not os.path.isfile(f\"{folder}/classifier.pkl\"):\n",
        "    raise FileNotFoundError(\"classifier.pkl not found\")\n",
        "\n",
        "  with open(f\"{folder}/config.json\", \"r\") as f:\n",
        "    config = json.load(f)\n",
        "\n",
        "  with open(f\"{folder}/classes.json\", \"r\") as f:\n",
        "    classes = json.load(f)\n",
        "\n",
        "  with open(f\"{folder}/classifier.pkl\", \"rb\") as f:\n",
        "    classifier_model = pickle.load(f)\n",
        "\n",
        "  for class_name in classes.values():\n",
        "    if not os.path.isfile(f\"{folder}/{class_name}_encoder.pt\"):\n",
        "      raise FileNotFoundError(f\"{class_name}_encoder.pt not found\")\n",
        "\n",
        "    if not os.path.isfile(f\"{folder}/{class_name}_decoder.pt\"):\n",
        "      raise FileNotFoundError(f\"{class_name}_decoder.pt not found\")\n",
        "\n",
        "    if not os.path.isfile(f\"{folder}/{class_name}_class.pkl\"):\n",
        "      raise FileNotFoundError(f\"{class_name}_class.pkl not found\")\n",
        "\n",
        "    if not os.path.isfile(f\"{folder}/{class_name}_class_out.pkl\"):\n",
        "      raise FileNotFoundError(f\"{class_name}_class_out.pkl not found\")\n",
        "\n",
        "    input_lang = pickle.load(open(f\"{folder}/{class_name}_class.pkl\", \"rb\"))\n",
        "    output_lang = pickle.load(open(f\"{folder}/{class_name}_class_out.pkl\", \"rb\"))\n",
        "    encoder = Encoder(input_lang.n_words, hidden_size).to(device)\n",
        "    decoder = AttentionDecoder(hidden_size, output_lang.n_words).to(device)\n",
        "    encoder.load_state_dict(torch.load(f\"{folder}/{class_name}_encoder.pt\"))\n",
        "    decoder.load_state_dict(torch.load(f\"{folder}/{class_name}_decoder.pt\"))\n",
        "    translation_models[class_name] = (input_lang, output_lang, encoder, decoder)\n",
        "\n",
        "  return classifier_model, translation_models, classes, config\n",
        "\n",
        "load_translite(\"translite_out\")\n"
      ],
      "metadata": {
        "colab": {
          "base_uri": "https://localhost:8080/"
        },
        "id": "cb7-cAVMVJgN",
        "outputId": "7273c2e1-1570-49c2-a125-a56743781352"
      },
      "execution_count": 26,
      "outputs": [
        {
          "output_type": "execute_result",
          "data": {
            "text/plain": [
              "(Pipeline(steps=[('embeddings',\n",
              "                  TfidfVectorizer(analyzer='char', ngram_range=(1, 3))),\n",
              "                 ('classifier', MultinomialNB(alpha=0.1))]),\n",
              " {'French': (<__main__.Lang at 0x7d2543f5dfd0>,\n",
              "   <__main__.Lang at 0x7d25241a2fd0>,\n",
              "   Encoder(\n",
              "     (embedding): Embedding(19370, 128)\n",
              "     (gru): GRU(128, 128, batch_first=True)\n",
              "     (dropout): Dropout(p=0.1, inplace=False)\n",
              "   ),\n",
              "   AttentionDecoder(\n",
              "     (embedding): Embedding(11604, 128)\n",
              "     (attention): BahdanauAttention(\n",
              "       (Wa): Linear(in_features=128, out_features=128, bias=True)\n",
              "       (Ua): Linear(in_features=128, out_features=128, bias=True)\n",
              "       (Va): Linear(in_features=128, out_features=1, bias=True)\n",
              "     )\n",
              "     (gru): GRU(256, 128, batch_first=True)\n",
              "     (out): Linear(in_features=128, out_features=11604, bias=True)\n",
              "     (dropout): Dropout(p=0.1, inplace=False)\n",
              "   )),\n",
              "  'Spanish': (<__main__.Lang at 0x7d2542ba6f50>,\n",
              "   <__main__.Lang at 0x7d2543697590>,\n",
              "   Encoder(\n",
              "     (embedding): Embedding(21447, 128)\n",
              "     (gru): GRU(128, 128, batch_first=True)\n",
              "     (dropout): Dropout(p=0.1, inplace=False)\n",
              "   ),\n",
              "   AttentionDecoder(\n",
              "     (embedding): Embedding(11348, 128)\n",
              "     (attention): BahdanauAttention(\n",
              "       (Wa): Linear(in_features=128, out_features=128, bias=True)\n",
              "       (Ua): Linear(in_features=128, out_features=128, bias=True)\n",
              "       (Va): Linear(in_features=128, out_features=1, bias=True)\n",
              "     )\n",
              "     (gru): GRU(256, 128, batch_first=True)\n",
              "     (out): Linear(in_features=128, out_features=11348, bias=True)\n",
              "     (dropout): Dropout(p=0.1, inplace=False)\n",
              "   ))},\n",
              " {'0': 'French', '1': 'Spanish'},\n",
              " {'max_sent_length': 10, 'hidden_size': 128, 'EOS_token': 1, 'SOS_token': 0})"
            ]
          },
          "metadata": {},
          "execution_count": 26
        }
      ]
    }
  ]
}